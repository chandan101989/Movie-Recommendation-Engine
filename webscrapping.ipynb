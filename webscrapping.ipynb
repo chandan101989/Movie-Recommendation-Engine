{
 "cells": [
  {
   "cell_type": "code",
   "execution_count": 1,
   "id": "68dbf0de",
   "metadata": {},
   "outputs": [
    {
     "name": "stdout",
     "output_type": "stream",
     "text": [
      "Defaulting to user installation because normal site-packages is not writeable\n",
      "Requirement already satisfied: beautifulsoup4 in c:\\users\\uts\\appdata\\roaming\\python\\python311\\site-packages (4.8.2)\n",
      "Requirement already satisfied: soupsieve>=1.2 in c:\\programdata\\anaconda3\\lib\\site-packages (from beautifulsoup4) (2.4)\n",
      "Note: you may need to restart the kernel to use updated packages.\n"
     ]
    },
    {
     "name": "stderr",
     "output_type": "stream",
     "text": [
      "DEPRECATION: textract 1.6.5 has a non-standard dependency specifier extract-msg<=0.29.*. pip 23.3 will enforce this behaviour change. A possible replacement is to upgrade to a newer version of textract or contact the author to suggest that they release a version with a conforming dependency specifiers. Discussion can be found at https://github.com/pypa/pip/issues/12063\n"
     ]
    }
   ],
   "source": [
    "pip install beautifulsoup4"
   ]
  },
  {
   "cell_type": "code",
   "execution_count": 2,
   "id": "130a9aa5",
   "metadata": {},
   "outputs": [
    {
     "name": "stdout",
     "output_type": "stream",
     "text": [
      "Defaulting to user installation because normal site-packages is not writeable\n",
      "Requirement already satisfied: openpyxl in c:\\programdata\\anaconda3\\lib\\site-packages (3.0.10)\n",
      "Requirement already satisfied: et_xmlfile in c:\\programdata\\anaconda3\\lib\\site-packages (from openpyxl) (1.1.0)\n",
      "Note: you may need to restart the kernel to use updated packages.\n"
     ]
    },
    {
     "name": "stderr",
     "output_type": "stream",
     "text": [
      "DEPRECATION: textract 1.6.5 has a non-standard dependency specifier extract-msg<=0.29.*. pip 23.3 will enforce this behaviour change. A possible replacement is to upgrade to a newer version of textract or contact the author to suggest that they release a version with a conforming dependency specifiers. Discussion can be found at https://github.com/pypa/pip/issues/12063\n"
     ]
    }
   ],
   "source": [
    "pip install openpyxl "
   ]
  },
  {
   "cell_type": "code",
   "execution_count": 3,
   "id": "2f46432e",
   "metadata": {},
   "outputs": [
    {
     "name": "stdout",
     "output_type": "stream",
     "text": [
      "Defaulting to user installation because normal site-packages is not writeable\n",
      "Requirement already satisfied: regex in c:\\programdata\\anaconda3\\lib\\site-packages (2022.7.9)\n",
      "Note: you may need to restart the kernel to use updated packages.\n"
     ]
    },
    {
     "name": "stderr",
     "output_type": "stream",
     "text": [
      "DEPRECATION: textract 1.6.5 has a non-standard dependency specifier extract-msg<=0.29.*. pip 23.3 will enforce this behaviour change. A possible replacement is to upgrade to a newer version of textract or contact the author to suggest that they release a version with a conforming dependency specifiers. Discussion can be found at https://github.com/pypa/pip/issues/12063\n"
     ]
    }
   ],
   "source": [
    "pip install regex"
   ]
  },
  {
   "cell_type": "code",
   "execution_count": 4,
   "id": "fca9f301",
   "metadata": {},
   "outputs": [
    {
     "name": "stdout",
     "output_type": "stream",
     "text": [
      "Movie '3 Idiots' not found on IMDb.\n",
      "Movie 'Like Stars on Earth' not found on IMDb.\n",
      "Movie 'PK' not found on IMDb.\n",
      "Movie 'Dangal' not found on IMDb.\n",
      "Movie 'Rang De Basanti' not found on IMDb.\n",
      "Movie 'Lagaan: Once Upon a Time in India' not found on IMDb.\n",
      "Movie 'My Name Is Khan' not found on IMDb.\n",
      "Movie 'Swades' not found on IMDb.\n",
      "Movie 'Gangs of Wasseypur' not found on IMDb.\n",
      "Movie 'Gangs of Wasseypur' not found on IMDb.\n",
      "Movie 'Barfi!' not found on IMDb.\n",
      "Movie 'Chak De! India' not found on IMDb.\n",
      "Movie 'Munna Bhai M.B.B.S.' not found on IMDb.\n",
      "Movie 'Bajrangi Bhaijaan' not found on IMDb.\n"
     ]
    },
    {
     "name": "stderr",
     "output_type": "stream",
     "text": [
      "\n",
      "KeyboardInterrupt\n",
      "\n"
     ]
    }
   ],
   "source": [
    "import pandas as pd\n",
    "import requests\n",
    "from bs4 import BeautifulSoup\n",
    "from openpyxl import Workbook\n",
    "\n",
    "# Function to extract movie details from IMDb\n",
    "def get_movie_details(movie_title):\n",
    "   \n",
    "    url = f\"https://www.imdb.com/find?q={movie_title}&s=tt\"\n",
    "    headers = {\"User-Agent\": \"Mozilla/5.0 (Windows NT 10.0; Win64; x64) AppleWebKit/537.36 (KHTML, like Gecko) Chrome/58.0.3029.110 Safari/537.3\"}\n",
    "    response = requests.get(url, headers=headers)\n",
    "    soup = BeautifulSoup(response.content, 'html.parser')\n",
    "    \n",
    "    # Extract the first search result (assuming it's the most relevant)\n",
    "    result = soup.find_all('td', class_='result_text')\n",
    "    if result:\n",
    "        # Get the link to the movie page\n",
    "        movie_link = result[0].a['href']  # Changed to result[0] to get the first search result\n",
    "        movie_url = f\"https://www.imdb.com{movie_link}\"\n",
    "        \n",
    "        # Fetch the movie page\n",
    "        movie_response = requests.get(movie_url, headers=headers)\n",
    "        movie_soup = BeautifulSoup(movie_response.content, 'html.parser')\n",
    "        \n",
    "        # Extract movie details\n",
    "        imdb_id = movie_link.split('/')[2]\n",
    "        year = movie_soup.find('span', id='titleYear').a.text.strip()\n",
    "        rating = movie_soup.find('span', itemprop='ratingValue').text.strip()\n",
    "        genre = ', '.join([g.text.strip() for g in movie_soup.find_all('span', itemprop='genre')])\n",
    "        top_cast = ', '.join([a.text.strip() for a in movie_soup.find_all('span', itemprop='actors')][:3])\n",
    "        \n",
    "        return {'IMDb ID': imdb_id, 'Year': year, 'Rating': rating, 'Genre': genre, 'Top Cast': top_cast}\n",
    "    else:\n",
    "        print(f\"Movie '{movie_title}' not found on IMDb.\")\n",
    "        return None\n",
    "\n",
    "# Read movie CSV file\n",
    "df = pd.read_csv('Movie_list.csv')\n",
    "\n",
    "# Iterate through each movie title and scrape IMDb for details\n",
    "movie_details_list = []\n",
    "for movie_title in df['Title']:\n",
    "    movie_details = get_movie_details(movie_title)\n",
    "    if movie_details:\n",
    "        movie_details_list.append(movie_details)\n",
    "\n",
    "# Convert the list of dictionaries to a DataFrame\n",
    "details_df = pd.DataFrame(movie_details_list)\n",
    "\n",
    "# Append the extracted details to the original CSV file\n",
    "details_df.to_csv('updated_movies.csv', index=False)"
   ]
  },
  {
   "cell_type": "markdown",
   "id": "56da8ead",
   "metadata": {},
   "source": [
    "# One Movie"
   ]
  },
  {
   "cell_type": "code",
   "execution_count": 5,
   "id": "63e9dbe8",
   "metadata": {},
   "outputs": [],
   "source": [
    "from bs4 import BeautifulSoup\n",
    "import requests\n",
    "import pandas as pd\n",
    "from openpyxl import Workbook\n",
    "import re"
   ]
  },
  {
   "cell_type": "code",
   "execution_count": 6,
   "id": "cab758f0",
   "metadata": {},
   "outputs": [
    {
     "name": "stdout",
     "output_type": "stream",
     "text": [
      "<Response [200]>\n"
     ]
    }
   ],
   "source": [
    "url=\"https://www.imdb.com/title/tt1187043/?ref_=nv_sr_srsg_0_tt_8_nm_0_q_3%2520idots\"\n",
    "headers = {\"User-Agent\": \"Mozilla/5.0 (Windows NT 10.0; Win64; x64) AppleWebKit/537.36 (KHTML, like Gecko) Chrome/58.0.3029.110 Safari/537.3\"}\n",
    "response=requests.get(url, headers=headers)\n",
    "soup = BeautifulSoup(response.content, 'html.parser')\n",
    "print(response)"
   ]
  },
  {
   "cell_type": "markdown",
   "id": "5a87d557",
   "metadata": {},
   "source": [
    "# Movie Name"
   ]
  },
  {
   "cell_type": "code",
   "execution_count": 7,
   "id": "83a9a7c5",
   "metadata": {},
   "outputs": [
    {
     "name": "stdout",
     "output_type": "stream",
     "text": [
      "Movie Name : 3 Idiots \n"
     ]
    }
   ],
   "source": [
    "movie_1 = soup.title\n",
    "title = movie_1.text.strip().split('(')[0] if movie_1 else None\n",
    "print(\"Movie Name :\",title)"
   ]
  },
  {
   "cell_type": "markdown",
   "id": "6eab448b",
   "metadata": {},
   "source": [
    "# Movie ID"
   ]
  },
  {
   "cell_type": "code",
   "execution_count": 9,
   "id": "3ba74ba0",
   "metadata": {},
   "outputs": [
    {
     "name": "stdout",
     "output_type": "stream",
     "text": [
      "Movie ID: tt1187043\n"
     ]
    }
   ],
   "source": [
    "pattern = r'/title/(tt\\d+)/'\n",
    "id = re.search(pattern, url)\n",
    "if id:\n",
    "    movie_id = id.group(1)  # Accessing the first captured group\n",
    "    print(\"Movie ID:\", movie_id)\n",
    "else:\n",
    "    print(\"Movie ID not found.\")"
   ]
  },
  {
   "cell_type": "markdown",
   "id": "2238c5dc",
   "metadata": {},
   "source": [
    "# Movie Year"
   ]
  },
  {
   "cell_type": "code",
   "execution_count": 10,
   "id": "ee656c25",
   "metadata": {},
   "outputs": [
    {
     "name": "stdout",
     "output_type": "stream",
     "text": [
      "Year : 2009\n"
     ]
    }
   ],
   "source": [
    "url_year= '<a class=\"ipc-link ipc-link--baseAlt ipc-link--inherit-color\" role=\"button\" tabindex=\"0\" aria-disabled=\"false\" href=\"/title/tt1187043/releaseinfo?ref_=tt_ov_rdat\">2009</a>'\n",
    "soup = BeautifulSoup(url_year, 'html.parser')\n",
    "year = soup.find('a',class_=\"ipc-link ipc-link--baseAlt ipc-link--inherit-color\")\n",
    "year_text = year.text.strip()\n",
    "print(\"Year :\",year_text)"
   ]
  },
  {
   "cell_type": "markdown",
   "id": "54490b2c",
   "metadata": {},
   "source": [
    "# Movie Rating"
   ]
  },
  {
   "cell_type": "code",
   "execution_count": 11,
   "id": "8ea30be9",
   "metadata": {},
   "outputs": [
    {
     "name": "stdout",
     "output_type": "stream",
     "text": [
      "Rating : 8.4\n"
     ]
    }
   ],
   "source": [
    "url_rate = '<span class=\"sc-bde20123-1 cMEQkK\">8.4</span>'\n",
    "soup = BeautifulSoup(url_rate, 'html.parser')\n",
    "rating = soup.find(\"span\", class_ = 'sc-bde20123-1 cMEQkK')\n",
    "rate = rating.text\n",
    "print(\"Rating :\",rate)"
   ]
  },
  {
   "cell_type": "markdown",
   "id": "e9a7214f",
   "metadata": {},
   "source": [
    "# Movie Genre"
   ]
  },
  {
   "cell_type": "code",
   "execution_count": 12,
   "id": "73c1287c",
   "metadata": {},
   "outputs": [
    {
     "name": "stdout",
     "output_type": "stream",
     "text": [
      "Genres: Comedy, Drama\n"
     ]
    }
   ],
   "source": [
    "url_genre = '<div class=\"ipc-metadata-list-item__content-container\"><ul class=\"ipc-inline-list ipc-inline-list--show-dividers ipc-inline-list--inline ipc-metadata-list-item__list-content base\" role=\"presentation\"><li role=\"presentation\" class=\"ipc-inline-list__item\"><a class=\"ipc-metadata-list-item__list-content-item ipc-metadata-list-item__list-content-item--link\" role=\"button\" tabindex=\"0\" aria-disabled=\"false\" href=\"/search/title/?genres=Comedy&amp;explore=title_type,genres&amp;ref_=tt_ov_inf\">Comedy</a></li><li role=\"presentation\" class=\"ipc-inline-list__item\"><a class=\"ipc-metadata-list-item__list-content-item ipc-metadata-list-item__list-content-item--link\" role=\"button\" tabindex=\"0\" aria-disabled=\"false\" href=\"/search/title/?genres=Drama&amp;explore=title_type,genres&amp;ref_=tt_ov_inf\">Drama</a></li></ul></div>'\n",
    "soup = BeautifulSoup(url_genre, 'html.parser')\n",
    "genre_1= soup.find(\"div\", class_ = 'ipc-metadata-list-item__content-container')\n",
    "if genre_1:\n",
    "    genres = [a.text.strip() for a in genre_1.find_all('a')]\n",
    "    genres_text = ', '.join(genres)  \n",
    "  \n",
    "    print(\"Genres:\", genres_text)"
   ]
  },
  {
   "cell_type": "markdown",
   "id": "4e195cb8",
   "metadata": {},
   "source": [
    "# Movie Top cast"
   ]
  },
  {
   "cell_type": "code",
   "execution_count": 13,
   "id": "d71fbeac",
   "metadata": {},
   "outputs": [
    {
     "name": "stdout",
     "output_type": "stream",
     "text": [
      "Top Four Cast: ['Aamir KhanRancho', 'MadhavanFarhan(as R. Madhavan)', 'Mona SinghMona']\n"
     ]
    }
   ],
   "source": [
    "url=\"https://www.imdb.com/title/tt1187043/?ref_=nv_sr_srsg_0_tt_8_nm_0_q_3%2520idots\"\n",
    "headers = {\"User-Agent\": \"Mozilla/5.0 (Windows NT 10.0; Win64; x64) AppleWebKit/537.36 (KHTML, like Gecko) Chrome/58.0.3029.110 Safari/537.3\"}\n",
    "response=requests.get(url, headers=headers)\n",
    "soup = BeautifulSoup(response.content, 'html.parser')\n",
    "movie_topcast = []\n",
    "cast = soup.find(class_=\"ipc-sub-grid ipc-sub-grid--page-span-2 ipc-sub-grid--wraps-at-above-l ipc-shoveler__grid\")\n",
    "if cast:\n",
    "    for span in cast.find_all('div', class_=\"sc-bfec09a1-7 gWwKlt\"):\n",
    "        movie_topcast.append(span.text)\n",
    "\n",
    "\n",
    "movie_topcast = movie_topcast[:3]\n",
    "\n",
    "print(\"Top Four Cast:\", movie_topcast)"
   ]
  },
  {
   "cell_type": "code",
   "execution_count": 14,
   "id": "9b474691",
   "metadata": {},
   "outputs": [
    {
     "name": "stdout",
     "output_type": "stream",
     "text": [
      "IMDb ID: tt1500491\n",
      "Title: Death Race 2\n",
      "Year: 2010\n",
      "Rating: 5.6\n",
      "Genres: Action, Crime, Sci-Fi\n",
      "Top Cast: [\"Luke GossCarl 'Luke' Lucas\", 'Lauren CohanSeptember Jones', 'Sean BeanMarkus Kane', 'Ving RhamesWeyland']\n"
     ]
    }
   ],
   "source": [
    "from bs4 import BeautifulSoup\n",
    "import requests\n",
    "import re\n",
    "import pandas as pd\n",
    "\n",
    "def extract_movie_info(url):\n",
    "    headers = {\n",
    "        'User-Agent': 'Mozilla/5.0 (Windows NT 10.0; Win64; x64) AppleWebKit/537.36 (KHTML, like Gecko) Chrome/58.0.3029.110 Safari/537.3'\n",
    "    }\n",
    "    response = requests.get(url, headers=headers)\n",
    "    if response.status_code != 200:\n",
    "        print(f\"Failed to fetch the webpage: {url}\")\n",
    "        return None\n",
    "\n",
    "    html_content = response.content\n",
    "    soup = BeautifulSoup(html_content, \"html.parser\")\n",
    "\n",
    "    # Extract IMDb movie ID\n",
    "    imdb_id_match = re.search(r'/title/(tt\\d+)/', url)\n",
    "    imdb_id = imdb_id_match.group(1) if imdb_id_match else None\n",
    "\n",
    "    # Extract movie title\n",
    "    title_element = soup.find(\"h1\")\n",
    "    movie_title = title_element.text.strip()\n",
    "\n",
    "    # Extract movie year\n",
    "    year_element = soup.find(class_='ipc-inline-list ipc-inline-list--show-dividers sc-d8941411-2 cdJsTz baseAlt')\n",
    "    movie_year = year_element.find('a').text if year_element else None\n",
    "\n",
    "    # Extract movie rating\n",
    "    rating_element = soup.find(\"span\", class_=\"sc-bde20123-1 cMEQkK\")\n",
    "    rating = rating_element.text.strip() if rating_element else None\n",
    " \n",
    "    # Extract movie genres\n",
    "    genre_1 = soup.find(\"div\", class_='ipc-chip-list__scroller')\n",
    "    if genre_1:\n",
    "        genres = [a.text.strip() for a in genre_1.find_all('a')]\n",
    "        # Remove empty strings and join the genres using ', '\n",
    "        genres_text = ', '.join(filter(None, genres))\n",
    "    else:\n",
    "        genres_text = None\n",
    "\n",
    "    # Extract top cast\n",
    "    movie_topcast = []\n",
    "    cast = soup.find(class_=\"ipc-sub-grid ipc-sub-grid--page-span-2 ipc-sub-grid--wraps-at-above-l ipc-shoveler__grid\")\n",
    "    if cast:\n",
    "        for span in cast.find_all('div', class_=\"sc-bfec09a1-7 gWwKlt\"):\n",
    "            movie_topcast.append(span.text)\n",
    "            movie_topcast = movie_topcast[:4]\n",
    "\n",
    "        \n",
    "    movie_info = {\n",
    "        \"imdb_id\": imdb_id,\n",
    "        \"title\": movie_title,\n",
    "        \"year\": movie_year,\n",
    "        \"rating\": rating,\n",
    "        \"genres\": genres_text,\n",
    "        \"top_cast\": movie_topcast\n",
    "    }\n",
    "\n",
    "    return movie_info\n",
    "\n",
    "# Example usage\n",
    "url = \"https://www.imdb.com/title/tt1500491/?ref_=tt_sims_tt_i_1\"  # Example IMDb URL for \"The Shawshank Redemption\"\n",
    "movie_info = extract_movie_info(url)\n",
    "if movie_info:\n",
    "    print(\"IMDb ID:\", movie_info[\"imdb_id\"])\n",
    "    print(\"Title:\", movie_info[\"title\"])\n",
    "    print(\"Year:\", movie_info[\"year\"])\n",
    "    print(\"Rating:\", movie_info[\"rating\"])\n",
    "    print(\"Genres:\", movie_info[\"genres\"])\n",
    "    print(\"Top Cast:\", movie_info[\"top_cast\"])"
   ]
  },
  {
   "cell_type": "code",
   "execution_count": 15,
   "id": "a730023d",
   "metadata": {},
   "outputs": [
    {
     "name": "stdout",
     "output_type": "stream",
     "text": [
      "Fetching movie info for IMDb ID: tt0111308\n",
      "Fetching movie info for IMDb ID: tt1170399\n",
      "Fetching movie info for IMDb ID: tt18413548\n",
      "Fetching movie info for IMDb ID: tt7609114\n",
      "Fetching movie info for IMDb ID: tt2857500\n",
      "Fetching movie info for IMDb ID: tt3059106\n",
      "Fetching movie info for IMDb ID: tt0101742\n",
      "Fetching movie info for IMDb ID: tt0064363\n"
     ]
    }
   ],
   "source": [
    "from bs4 import BeautifulSoup\n",
    "import requests\n",
    "import re\n",
    "import pandas as pd\n",
    "\n",
    "def extract_movie_info(imdb_id):\n",
    "    url = f\"https://www.imdb.com/title/{imdb_id}/\"\n",
    "    headers = {\n",
    "        'User-Agent': 'Mozilla/5.0 (Windows NT 10.0; Win64; x64) AppleWebKit/537.36 (KHTML, like Gecko) Chrome/58.0.3029.110 Safari/537.3'\n",
    "    }\n",
    "    response = requests.get(url, headers=headers)\n",
    "    if response.status_code != 200:\n",
    "        print(f\"Failed to fetch the webpage: {url}\")\n",
    "        return None\n",
    "\n",
    "    html_content = response.content\n",
    "    soup = BeautifulSoup(html_content, \"html.parser\")\n",
    "\n",
    "    # Extract movie title\n",
    "    title_element = soup.find(\"h1\")\n",
    "    movie_title = title_element.text.strip()\n",
    "\n",
    "    # Extract movie year\n",
    "    year_element = soup.find(class_='ipc-inline-list ipc-inline-list--show-dividers sc-d8941411-2 cdJsTz baseAlt')\n",
    "    movie_year = year_element.find('a').text if year_element else None\n",
    "\n",
    "    # Extract movie rating\n",
    "    rating_element = soup.find(\"span\", class_=\"sc-bde20123-1 cMEQkK\")\n",
    "    rating = rating_element.text.strip() if rating_element else None\n",
    "\n",
    "    # Extract movie genres\n",
    "    genre_1 = soup.find(\"div\", class_='ipc-chip-list__scroller')\n",
    "    if genre_1:\n",
    "        genres = [a.text.strip() for a in genre_1.find_all('a')]\n",
    "        # Remove empty strings and join the genres using ', '\n",
    "        genres_text = ', '.join(filter(None, genres))\n",
    "    else:\n",
    "        genres_text = None\n",
    "\n",
    "    # Extract top cast\n",
    "    movie_topcast = []\n",
    "    cast = soup.find(class_=\"ipc-sub-grid ipc-sub-grid--page-span-2 ipc-sub-grid--wraps-at-above-l ipc-shoveler__grid\")\n",
    "    if cast:\n",
    "        for span in cast.find_all('div', class_=\"sc-bfec09a1-7 gWwKlt\"):\n",
    "            movie_topcast.append(span.text)\n",
    "            movie_topcast = movie_topcast[:3]\n",
    "\n",
    "    movie_info = {\n",
    "        \"imdb_id\": imdb_id,\n",
    "        \"title\": movie_title,\n",
    "        \"year\": movie_year,\n",
    "        \"rating\": rating,\n",
    "        \"genres\": genres_text,\n",
    "        \"top_cast\": movie_topcast\n",
    "    }\n",
    "\n",
    "    return movie_info\n",
    "\n",
    "def save_to_csv(movie_infos, filename):\n",
    "    df = pd.DataFrame(movie_infos)\n",
    "    df.to_csv(filename, index=False)\n",
    "\n",
    "# Example usage\n",
    "imdb_ids = [\n",
    "'tt0111308',\n",
    "'tt1170399',\n",
    "'tt18413548',\n",
    "'tt7609114',\n",
    "'tt2857500',\n",
    "'tt3059106',\n",
    "'tt0101742',\n",
    "'tt0064363',\n",
    "\n",
    "]\n",
    "\n",
    "movie_infos = []\n",
    "for imdb_id in imdb_ids:\n",
    "    print(\"Fetching movie info for IMDb ID:\", imdb_id)\n",
    "    movie_info = extract_movie_info(imdb_id)\n",
    "    if movie_info:\n",
    "        movie_infos.append(movie_info)\n",
    "\n",
    "#Save to CSV\n",
    "save_to_csv(movie_infos, \"movie_data1.csv\")"
   ]
  },
  {
   "cell_type": "code",
   "execution_count": 18,
   "id": "ea1036cf",
   "metadata": {},
   "outputs": [
    {
     "name": "stdout",
     "output_type": "stream",
     "text": [
      "Fetching movie info for IMDb ID: tt0326600\n",
      "Fetching movie info for IMDb ID: tt0112459\n",
      "Fetching movie info for IMDb ID: tt0086597\n",
      "Fetching movie info for IMDb ID: tt0357283\n",
      "Fetching movie info for IMDb ID: tt0331216\n",
      "Fetching movie info for IMDb ID: tt1327833\n",
      "Fetching movie info for IMDb ID: tt0187227\n",
      "Fetching movie info for IMDb ID: tt5784860\n",
      "Fetching movie info for IMDb ID: tt1039969\n",
      "Fetching movie info for IMDb ID: tt5638474\n",
      "Fetching movie info for IMDb ID: tt14852412\n",
      "Fetching movie info for IMDb ID: tt0089599\n",
      "Fetching movie info for IMDb ID: tt0251756\n",
      "Fetching movie info for IMDb ID: tt0250122\n",
      "Fetching movie info for IMDb ID: tt3422462\n",
      "Fetching movie info for IMDb ID: tt0216707\n",
      "Fetching movie info for IMDb ID: tt0216707\n",
      "Fetching movie info for IMDb ID: tt0475627\n",
      "Fetching movie info for IMDb ID: tt0306228\n"
     ]
    }
   ],
   "source": [
    "from bs4 import BeautifulSoup\n",
    "import requests\n",
    "import re\n",
    "import pandas as pd\n",
    "\n",
    "def extract_movie_info(imdb_id):\n",
    "    url = f\"https://www.imdb.com/title/{imdb_id}/\"\n",
    "    headers = {\n",
    "        'User-Agent': 'Mozilla/5.0 (Windows NT 10.0; Win64; x64) AppleWebKit/537.36 (KHTML, like Gecko) Chrome/58.0.3029.110 Safari/537.3'\n",
    "    }\n",
    "    response = requests.get(url, headers=headers)\n",
    "    if response.status_code != 200:\n",
    "        print(f\"Failed to fetch the webpage: {url}\")\n",
    "        return None\n",
    "\n",
    "    html_content = response.content\n",
    "    soup = BeautifulSoup(html_content, \"html.parser\")\n",
    "\n",
    "    # Extract movie title\n",
    "    title_element = soup.find(\"h1\")\n",
    "    movie_title = title_element.text.strip()\n",
    "\n",
    "    # Extract movie year\n",
    "    year_element = soup.find(class_='ipc-inline-list ipc-inline-list--show-dividers sc-d8941411-2 cdJsTz baseAlt')\n",
    "    movie_year = year_element.find('a').text if year_element else None\n",
    "\n",
    "    # Extract movie rating\n",
    "    rating_element = soup.find(\"span\", class_=\"sc-bde20123-1 cMEQkK\")\n",
    "    rating = rating_element.text.strip() if rating_element else None\n",
    "\n",
    "    # Extract movie genres\n",
    "    genre_1 = soup.find(\"div\", class_='ipc-chip-list__scroller')\n",
    "    if genre_1:\n",
    "        genres = [a.text.strip() for a in genre_1.find_all('a')]\n",
    "        # Remove empty strings and join the genres using ', '\n",
    "        genres_text = ', '.join(filter(None, genres))\n",
    "    else:\n",
    "        genres_text = None\n",
    "\n",
    "    # Extract top cast\n",
    "    movie_topcast = []\n",
    "    cast = soup.find(class_=\"ipc-sub-grid ipc-sub-grid--page-span-2 ipc-sub-grid--wraps-at-above-l ipc-shoveler__grid\")\n",
    "    if cast:\n",
    "        for span in cast.find_all('div', class_=\"sc-bfec09a1-7 gWwKlt\"):\n",
    "            movie_topcast.append(span.text)\n",
    "            movie_topcast = movie_topcast[:3]\n",
    "\n",
    "    movie_info = {\n",
    "        \"imdb_id\": imdb_id,\n",
    "        \"title\": movie_title,\n",
    "        \"year\": movie_year,\n",
    "        \"rating\": rating,\n",
    "        \"genres\": genres_text,\n",
    "        \"top_cast\": movie_topcast\n",
    "    }\n",
    "\n",
    "    return movie_info\n",
    "\n",
    "def save_to_csv(movie_infos, filename):\n",
    "    df = pd.DataFrame(movie_infos)\n",
    "    df.to_csv(filename, index=False)\n",
    "\n",
    "# Example usage\n",
    "imdb_ids = [\n",
    "'tt0326600',\n",
    "'tt0112459',\n",
    "'tt0086597',\n",
    "'tt0357283',\n",
    "'tt0331216',\n",
    "'tt1327833',\n",
    "'tt0187227',\n",
    "'tt5784860',\n",
    "'tt1039969',\n",
    "'tt5638474',\n",
    "'tt14852412',\n",
    "'tt0089599',\n",
    "'tt0251756',\n",
    "'tt0250122',\n",
    "'tt3422462',\n",
    "'tt0216707',\n",
    "'tt0216707',\n",
    "'tt0475627',\n",
    "'tt0306228',\n",
    "\n",
    "\n",
    "\n",
    "\n",
    "\n",
    "]\n",
    "\n",
    "movie_infos = []\n",
    "for imdb_id in imdb_ids:\n",
    "    print(\"Fetching movie info for IMDb ID:\", imdb_id)\n",
    "    movie_info = extract_movie_info(imdb_id)\n",
    "    if movie_info:\n",
    "        movie_infos.append(movie_info)\n",
    "\n",
    "# Save to CSV\n",
    "save_to_csv(movie_infos, \"movie_data2.csv\")"
   ]
  },
  {
   "cell_type": "code",
   "execution_count": null,
   "id": "fe253faa",
   "metadata": {},
   "outputs": [],
   "source": []
  }
 ],
 "metadata": {
  "kernelspec": {
   "display_name": "Python 3 (ipykernel)",
   "language": "python",
   "name": "python3"
  },
  "language_info": {
   "codemirror_mode": {
    "name": "ipython",
    "version": 3
   },
   "file_extension": ".py",
   "mimetype": "text/x-python",
   "name": "python",
   "nbconvert_exporter": "python",
   "pygments_lexer": "ipython3",
   "version": "3.11.5"
  }
 },
 "nbformat": 4,
 "nbformat_minor": 5
}
