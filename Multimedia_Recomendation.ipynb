{
 "cells": [
  {
   "cell_type": "markdown",
   "id": "7b6f4cfe",
   "metadata": {},
   "source": [
    "# Import Libraries"
   ]
  },
  {
   "cell_type": "code",
   "execution_count": 1,
   "id": "cdc310e0",
   "metadata": {},
   "outputs": [],
   "source": [
    "import pandas as pd \n",
    "from sklearn.feature_extraction.text import TfidfVectorizer\n",
    "from sklearn.metrics.pairwise import linear_kernel\n",
    "import pickle"
   ]
  },
  {
   "cell_type": "markdown",
   "id": "81a80575",
   "metadata": {},
   "source": [
    "# Data Reading"
   ]
  },
  {
   "cell_type": "code",
   "execution_count": 8,
   "id": "1c2bc172",
   "metadata": {},
   "outputs": [],
   "source": [
    "movie_info=pd.read_csv('movie_list.csv')"
   ]
  },
  {
   "cell_type": "code",
   "execution_count": 9,
   "id": "baa423b5",
   "metadata": {},
   "outputs": [
    {
     "data": {
      "text/html": [
       "<div>\n",
       "<style scoped>\n",
       "    .dataframe tbody tr th:only-of-type {\n",
       "        vertical-align: middle;\n",
       "    }\n",
       "\n",
       "    .dataframe tbody tr th {\n",
       "        vertical-align: top;\n",
       "    }\n",
       "\n",
       "    .dataframe thead th {\n",
       "        text-align: right;\n",
       "    }\n",
       "</style>\n",
       "<table border=\"1\" class=\"dataframe\">\n",
       "  <thead>\n",
       "    <tr style=\"text-align: right;\">\n",
       "      <th></th>\n",
       "      <th>Title</th>\n",
       "      <th>IMDB id</th>\n",
       "      <th>Year</th>\n",
       "      <th>Rating</th>\n",
       "      <th>Genre</th>\n",
       "      <th>Top_cast</th>\n",
       "    </tr>\n",
       "  </thead>\n",
       "  <tbody>\n",
       "    <tr>\n",
       "      <th>0</th>\n",
       "      <td>3 Idiots</td>\n",
       "      <td>tt1187043</td>\n",
       "      <td>2009.0</td>\n",
       "      <td>8.4</td>\n",
       "      <td>Comedy, Drama</td>\n",
       "      <td>Aamir Khan, Madhavan, Sharman Joshi</td>\n",
       "    </tr>\n",
       "    <tr>\n",
       "      <th>1</th>\n",
       "      <td>Like Stars on Earth</td>\n",
       "      <td>tt0986264</td>\n",
       "      <td>2007.0</td>\n",
       "      <td>8.3</td>\n",
       "      <td>Drama, Family</td>\n",
       "      <td>Darsheel Safary, Aamir Khan, Tanay Chheda</td>\n",
       "    </tr>\n",
       "    <tr>\n",
       "      <th>2</th>\n",
       "      <td>PK</td>\n",
       "      <td>tt2338151</td>\n",
       "      <td>2014.0</td>\n",
       "      <td>8.1</td>\n",
       "      <td>Comedy, Drama, Sci-Fi</td>\n",
       "      <td>Aamir Khan, Anushka Sharma, Saurabh Shukla</td>\n",
       "    </tr>\n",
       "    <tr>\n",
       "      <th>3</th>\n",
       "      <td>Dangal</td>\n",
       "      <td>tt5074352</td>\n",
       "      <td>2016.0</td>\n",
       "      <td>8.3</td>\n",
       "      <td>Action, Biography, Drama, Sport</td>\n",
       "      <td>Aamir Khan, Fatima Sana Shaikh, Sanya Malhotra</td>\n",
       "    </tr>\n",
       "    <tr>\n",
       "      <th>4</th>\n",
       "      <td>Rang De Basanti</td>\n",
       "      <td>tt0405508</td>\n",
       "      <td>2006.0</td>\n",
       "      <td>8.1</td>\n",
       "      <td>Comedy, Crime, Drama</td>\n",
       "      <td>Aamir Khan, Siddharth, Sharman Joshi</td>\n",
       "    </tr>\n",
       "    <tr>\n",
       "      <th>...</th>\n",
       "      <td>...</td>\n",
       "      <td>...</td>\n",
       "      <td>...</td>\n",
       "      <td>...</td>\n",
       "      <td>...</td>\n",
       "      <td>...</td>\n",
       "    </tr>\n",
       "    <tr>\n",
       "      <th>3947</th>\n",
       "      <td>Mehmaan</td>\n",
       "      <td>NaN</td>\n",
       "      <td>NaN</td>\n",
       "      <td>NaN</td>\n",
       "      <td>NaN</td>\n",
       "      <td>NaN</td>\n",
       "    </tr>\n",
       "    <tr>\n",
       "      <th>3948</th>\n",
       "      <td>Sorry Daddy</td>\n",
       "      <td>NaN</td>\n",
       "      <td>NaN</td>\n",
       "      <td>NaN</td>\n",
       "      <td>NaN</td>\n",
       "      <td>NaN</td>\n",
       "    </tr>\n",
       "    <tr>\n",
       "      <th>3949</th>\n",
       "      <td>Raadha Aur Seeta</td>\n",
       "      <td>NaN</td>\n",
       "      <td>NaN</td>\n",
       "      <td>NaN</td>\n",
       "      <td>NaN</td>\n",
       "      <td>NaN</td>\n",
       "    </tr>\n",
       "    <tr>\n",
       "      <th>3950</th>\n",
       "      <td>Dafaa 302: Indian Penal Code Section 302</td>\n",
       "      <td>NaN</td>\n",
       "      <td>NaN</td>\n",
       "      <td>NaN</td>\n",
       "      <td>NaN</td>\n",
       "      <td>NaN</td>\n",
       "    </tr>\n",
       "    <tr>\n",
       "      <th>3951</th>\n",
       "      <td>Calapor</td>\n",
       "      <td>NaN</td>\n",
       "      <td>NaN</td>\n",
       "      <td>NaN</td>\n",
       "      <td>NaN</td>\n",
       "      <td>NaN</td>\n",
       "    </tr>\n",
       "  </tbody>\n",
       "</table>\n",
       "<p>3952 rows × 6 columns</p>\n",
       "</div>"
      ],
      "text/plain": [
       "                                         Title    IMDB id    Year  Rating  \\\n",
       "0                                     3 Idiots  tt1187043  2009.0     8.4   \n",
       "1                          Like Stars on Earth  tt0986264  2007.0     8.3   \n",
       "2                                           PK  tt2338151  2014.0     8.1   \n",
       "3                                       Dangal  tt5074352  2016.0     8.3   \n",
       "4                              Rang De Basanti  tt0405508  2006.0     8.1   \n",
       "...                                        ...        ...     ...     ...   \n",
       "3947                                   Mehmaan        NaN     NaN     NaN   \n",
       "3948                               Sorry Daddy        NaN     NaN     NaN   \n",
       "3949                          Raadha Aur Seeta        NaN     NaN     NaN   \n",
       "3950  Dafaa 302: Indian Penal Code Section 302        NaN     NaN     NaN   \n",
       "3951                                   Calapor        NaN     NaN     NaN   \n",
       "\n",
       "                                 Genre  \\\n",
       "0                        Comedy, Drama   \n",
       "1                        Drama, Family   \n",
       "2                Comedy, Drama, Sci-Fi   \n",
       "3      Action, Biography, Drama, Sport   \n",
       "4                 Comedy, Crime, Drama   \n",
       "...                                ...   \n",
       "3947                               NaN   \n",
       "3948                               NaN   \n",
       "3949                               NaN   \n",
       "3950                               NaN   \n",
       "3951                               NaN   \n",
       "\n",
       "                                            Top_cast  \n",
       "0                Aamir Khan, Madhavan, Sharman Joshi  \n",
       "1          Darsheel Safary, Aamir Khan, Tanay Chheda  \n",
       "2         Aamir Khan, Anushka Sharma, Saurabh Shukla  \n",
       "3     Aamir Khan, Fatima Sana Shaikh, Sanya Malhotra  \n",
       "4               Aamir Khan, Siddharth, Sharman Joshi  \n",
       "...                                              ...  \n",
       "3947                                             NaN  \n",
       "3948                                             NaN  \n",
       "3949                                             NaN  \n",
       "3950                                             NaN  \n",
       "3951                                             NaN  \n",
       "\n",
       "[3952 rows x 6 columns]"
      ]
     },
     "execution_count": 9,
     "metadata": {},
     "output_type": "execute_result"
    }
   ],
   "source": [
    "movie_info"
   ]
  },
  {
   "cell_type": "markdown",
   "id": "b9065566",
   "metadata": {},
   "source": [
    "# Data Understanding"
   ]
  },
  {
   "cell_type": "code",
   "execution_count": 22,
   "id": "f42ceb70",
   "metadata": {},
   "outputs": [
    {
     "data": {
      "text/plain": [
       "Index(['Title', 'IMDB id', 'Year', 'Rating', 'Genre', 'Top_cast'], dtype='object')"
      ]
     },
     "execution_count": 22,
     "metadata": {},
     "output_type": "execute_result"
    }
   ],
   "source": [
    "movie_info.columns"
   ]
  },
  {
   "cell_type": "code",
   "execution_count": 23,
   "id": "a3d66f9a",
   "metadata": {},
   "outputs": [
    {
     "data": {
      "text/plain": [
       "(3952, 6)"
      ]
     },
     "execution_count": 23,
     "metadata": {},
     "output_type": "execute_result"
    }
   ],
   "source": [
    "movie_info.shape"
   ]
  },
  {
   "cell_type": "code",
   "execution_count": 25,
   "id": "404553a1",
   "metadata": {},
   "outputs": [
    {
     "data": {
      "text/plain": [
       "Title          0\n",
       "IMDB id     2853\n",
       "Year           0\n",
       "Rating         0\n",
       "Genre          0\n",
       "Top_cast    2853\n",
       "dtype: int64"
      ]
     },
     "execution_count": 25,
     "metadata": {},
     "output_type": "execute_result"
    }
   ],
   "source": [
    "movie_info.isna().sum()"
   ]
  },
  {
   "cell_type": "code",
   "execution_count": 27,
   "id": "abae013c",
   "metadata": {},
   "outputs": [
    {
     "data": {
      "text/plain": [
       "Title        object\n",
       "IMDB id      object\n",
       "Year        float64\n",
       "Rating      float64\n",
       "Genre        object\n",
       "Top_cast     object\n",
       "dtype: object"
      ]
     },
     "execution_count": 27,
     "metadata": {},
     "output_type": "execute_result"
    }
   ],
   "source": [
    "movie_info.dtypes"
   ]
  },
  {
   "cell_type": "markdown",
   "id": "3d05da50",
   "metadata": {},
   "source": [
    "# Data Preprocessing\n",
    "\n",
    " * Data Cleaning\n",
    " * Datatype Conversation\n",
    " * Data Transformation"
   ]
  },
  {
   "cell_type": "markdown",
   "id": "05f93d3f",
   "metadata": {},
   "source": [
    "### Data Cleaning"
   ]
  },
  {
   "cell_type": "code",
   "execution_count": 30,
   "id": "4970788d",
   "metadata": {},
   "outputs": [
    {
     "data": {
      "text/plain": [
       "Title          0\n",
       "IMDB id     2853\n",
       "Year           0\n",
       "Rating         0\n",
       "Genre          0\n",
       "Top_cast    2853\n",
       "dtype: int64"
      ]
     },
     "execution_count": 30,
     "metadata": {},
     "output_type": "execute_result"
    }
   ],
   "source": [
    "movie_info.isnull().sum()"
   ]
  },
  {
   "cell_type": "code",
   "execution_count": 32,
   "id": "c9ba64a5",
   "metadata": {},
   "outputs": [],
   "source": [
    "movie_info.dropna(inplace=True)"
   ]
  },
  {
   "cell_type": "code",
   "execution_count": 34,
   "id": "55db7067",
   "metadata": {},
   "outputs": [
    {
     "data": {
      "text/html": [
       "<div>\n",
       "<style scoped>\n",
       "    .dataframe tbody tr th:only-of-type {\n",
       "        vertical-align: middle;\n",
       "    }\n",
       "\n",
       "    .dataframe tbody tr th {\n",
       "        vertical-align: top;\n",
       "    }\n",
       "\n",
       "    .dataframe thead th {\n",
       "        text-align: right;\n",
       "    }\n",
       "</style>\n",
       "<table border=\"1\" class=\"dataframe\">\n",
       "  <thead>\n",
       "    <tr style=\"text-align: right;\">\n",
       "      <th></th>\n",
       "      <th>Title</th>\n",
       "      <th>IMDB id</th>\n",
       "      <th>Year</th>\n",
       "      <th>Rating</th>\n",
       "      <th>Genre</th>\n",
       "      <th>Top_cast</th>\n",
       "    </tr>\n",
       "  </thead>\n",
       "  <tbody>\n",
       "    <tr>\n",
       "      <th>0</th>\n",
       "      <td>3 Idiots</td>\n",
       "      <td>tt1187043</td>\n",
       "      <td>2009.0</td>\n",
       "      <td>8.4</td>\n",
       "      <td>Comedy, Drama</td>\n",
       "      <td>Aamir Khan, Madhavan, Sharman Joshi</td>\n",
       "    </tr>\n",
       "    <tr>\n",
       "      <th>1</th>\n",
       "      <td>Like Stars on Earth</td>\n",
       "      <td>tt0986264</td>\n",
       "      <td>2007.0</td>\n",
       "      <td>8.3</td>\n",
       "      <td>Drama, Family</td>\n",
       "      <td>Darsheel Safary, Aamir Khan, Tanay Chheda</td>\n",
       "    </tr>\n",
       "    <tr>\n",
       "      <th>2</th>\n",
       "      <td>PK</td>\n",
       "      <td>tt2338151</td>\n",
       "      <td>2014.0</td>\n",
       "      <td>8.1</td>\n",
       "      <td>Comedy, Drama, Sci-Fi</td>\n",
       "      <td>Aamir Khan, Anushka Sharma, Saurabh Shukla</td>\n",
       "    </tr>\n",
       "    <tr>\n",
       "      <th>3</th>\n",
       "      <td>Dangal</td>\n",
       "      <td>tt5074352</td>\n",
       "      <td>2016.0</td>\n",
       "      <td>8.3</td>\n",
       "      <td>Action, Biography, Drama, Sport</td>\n",
       "      <td>Aamir Khan, Fatima Sana Shaikh, Sanya Malhotra</td>\n",
       "    </tr>\n",
       "    <tr>\n",
       "      <th>4</th>\n",
       "      <td>Rang De Basanti</td>\n",
       "      <td>tt0405508</td>\n",
       "      <td>2006.0</td>\n",
       "      <td>8.1</td>\n",
       "      <td>Comedy, Crime, Drama</td>\n",
       "      <td>Aamir Khan, Siddharth, Sharman Joshi</td>\n",
       "    </tr>\n",
       "    <tr>\n",
       "      <th>...</th>\n",
       "      <td>...</td>\n",
       "      <td>...</td>\n",
       "      <td>...</td>\n",
       "      <td>...</td>\n",
       "      <td>...</td>\n",
       "      <td>...</td>\n",
       "    </tr>\n",
       "    <tr>\n",
       "      <th>1094</th>\n",
       "      <td>Yamla Pagla Deewana Phir Se...</td>\n",
       "      <td>tt7609114</td>\n",
       "      <td>2018.0</td>\n",
       "      <td>4.4</td>\n",
       "      <td>Action, Comedy, Drama</td>\n",
       "      <td>['DharmendraJeet Parmar', 'Sunny DeolPuran', '...</td>\n",
       "    </tr>\n",
       "    <tr>\n",
       "      <th>1095</th>\n",
       "      <td>Saare Jahaan Se Mehnga...</td>\n",
       "      <td>tt2857500</td>\n",
       "      <td>2013.0</td>\n",
       "      <td>7.0</td>\n",
       "      <td>Comedy, Drama</td>\n",
       "      <td>['Annapoorna', 'V.M. Badola', 'Rampal Barsewal']</td>\n",
       "    </tr>\n",
       "    <tr>\n",
       "      <th>1096</th>\n",
       "      <td>Satya 2</td>\n",
       "      <td>tt3059106</td>\n",
       "      <td>2013.0</td>\n",
       "      <td>5.8</td>\n",
       "      <td>Action, Crime, Drama</td>\n",
       "      <td>['Puneet Singh ', 'SharwanandSatya ', 'Anaika ...</td>\n",
       "    </tr>\n",
       "    <tr>\n",
       "      <th>1097</th>\n",
       "      <td>Deewana Mujh Sa Nahin</td>\n",
       "      <td>tt0101742</td>\n",
       "      <td>1990.0</td>\n",
       "      <td>5.0</td>\n",
       "      <td>Romance, Comedy, Drama</td>\n",
       "      <td>['Aamir KhanAjay Sharma', 'Madhuri DixitAnita'...</td>\n",
       "    </tr>\n",
       "    <tr>\n",
       "      <th>1098</th>\n",
       "      <td>The Gay Deceivers</td>\n",
       "      <td>tt0064363</td>\n",
       "      <td>1969.0</td>\n",
       "      <td>5.8</td>\n",
       "      <td>Comedy</td>\n",
       "      <td>['Kevin Coughlin', 'Brooke Bundy', 'Lawrence P...</td>\n",
       "    </tr>\n",
       "  </tbody>\n",
       "</table>\n",
       "<p>1099 rows × 6 columns</p>\n",
       "</div>"
      ],
      "text/plain": [
       "                               Title    IMDB id    Year  Rating  \\\n",
       "0                           3 Idiots  tt1187043  2009.0     8.4   \n",
       "1                Like Stars on Earth  tt0986264  2007.0     8.3   \n",
       "2                                 PK  tt2338151  2014.0     8.1   \n",
       "3                             Dangal  tt5074352  2016.0     8.3   \n",
       "4                    Rang De Basanti  tt0405508  2006.0     8.1   \n",
       "...                              ...        ...     ...     ...   \n",
       "1094  Yamla Pagla Deewana Phir Se...  tt7609114  2018.0     4.4   \n",
       "1095       Saare Jahaan Se Mehnga...  tt2857500  2013.0     7.0   \n",
       "1096                         Satya 2  tt3059106  2013.0     5.8   \n",
       "1097           Deewana Mujh Sa Nahin  tt0101742  1990.0     5.0   \n",
       "1098               The Gay Deceivers  tt0064363  1969.0     5.8   \n",
       "\n",
       "                                 Genre  \\\n",
       "0                        Comedy, Drama   \n",
       "1                        Drama, Family   \n",
       "2                Comedy, Drama, Sci-Fi   \n",
       "3      Action, Biography, Drama, Sport   \n",
       "4                 Comedy, Crime, Drama   \n",
       "...                                ...   \n",
       "1094             Action, Comedy, Drama   \n",
       "1095                     Comedy, Drama   \n",
       "1096              Action, Crime, Drama   \n",
       "1097            Romance, Comedy, Drama   \n",
       "1098                            Comedy   \n",
       "\n",
       "                                               Top_cast  \n",
       "0                   Aamir Khan, Madhavan, Sharman Joshi  \n",
       "1             Darsheel Safary, Aamir Khan, Tanay Chheda  \n",
       "2            Aamir Khan, Anushka Sharma, Saurabh Shukla  \n",
       "3        Aamir Khan, Fatima Sana Shaikh, Sanya Malhotra  \n",
       "4                  Aamir Khan, Siddharth, Sharman Joshi  \n",
       "...                                                 ...  \n",
       "1094  ['DharmendraJeet Parmar', 'Sunny DeolPuran', '...  \n",
       "1095   ['Annapoorna', 'V.M. Badola', 'Rampal Barsewal']  \n",
       "1096  ['Puneet Singh ', 'SharwanandSatya ', 'Anaika ...  \n",
       "1097  ['Aamir KhanAjay Sharma', 'Madhuri DixitAnita'...  \n",
       "1098  ['Kevin Coughlin', 'Brooke Bundy', 'Lawrence P...  \n",
       "\n",
       "[1099 rows x 6 columns]"
      ]
     },
     "execution_count": 34,
     "metadata": {},
     "output_type": "execute_result"
    }
   ],
   "source": [
    "movie_info"
   ]
  },
  {
   "cell_type": "code",
   "execution_count": 36,
   "id": "5c8475e9",
   "metadata": {},
   "outputs": [
    {
     "data": {
      "text/plain": [
       "Title       0\n",
       "IMDB id     0\n",
       "Year        0\n",
       "Rating      0\n",
       "Genre       0\n",
       "Top_cast    0\n",
       "dtype: int64"
      ]
     },
     "execution_count": 36,
     "metadata": {},
     "output_type": "execute_result"
    }
   ],
   "source": [
    "movie_info.isna().sum()"
   ]
  },
  {
   "cell_type": "markdown",
   "id": "1d1eaa9c",
   "metadata": {},
   "source": [
    "### Datatype Conversation"
   ]
  },
  {
   "cell_type": "code",
   "execution_count": 38,
   "id": "065ba81c",
   "metadata": {},
   "outputs": [
    {
     "data": {
      "text/plain": [
       "Title        object\n",
       "IMDB id      object\n",
       "Year        float64\n",
       "Rating      float64\n",
       "Genre        object\n",
       "Top_cast     object\n",
       "dtype: object"
      ]
     },
     "execution_count": 38,
     "metadata": {},
     "output_type": "execute_result"
    }
   ],
   "source": [
    "movie_info.dtypes"
   ]
  },
  {
   "cell_type": "code",
   "execution_count": 40,
   "id": "dce655f5",
   "metadata": {},
   "outputs": [],
   "source": [
    "movie_info[\"Year\"]=movie_info[\"Year\"].astype('int')"
   ]
  },
  {
   "cell_type": "code",
   "execution_count": 41,
   "id": "00e0bf5c",
   "metadata": {},
   "outputs": [
    {
     "data": {
      "text/plain": [
       "Title        object\n",
       "IMDB id      object\n",
       "Year          int32\n",
       "Rating      float64\n",
       "Genre        object\n",
       "Top_cast     object\n",
       "dtype: object"
      ]
     },
     "execution_count": 41,
     "metadata": {},
     "output_type": "execute_result"
    }
   ],
   "source": [
    "movie_info.dtypes"
   ]
  },
  {
   "cell_type": "markdown",
   "id": "92009538",
   "metadata": {},
   "source": [
    "### No need for Data Transformation"
   ]
  },
  {
   "cell_type": "code",
   "execution_count": 42,
   "id": "4ad98d99",
   "metadata": {},
   "outputs": [
    {
     "data": {
      "text/html": [
       "<div>\n",
       "<style scoped>\n",
       "    .dataframe tbody tr th:only-of-type {\n",
       "        vertical-align: middle;\n",
       "    }\n",
       "\n",
       "    .dataframe tbody tr th {\n",
       "        vertical-align: top;\n",
       "    }\n",
       "\n",
       "    .dataframe thead th {\n",
       "        text-align: right;\n",
       "    }\n",
       "</style>\n",
       "<table border=\"1\" class=\"dataframe\">\n",
       "  <thead>\n",
       "    <tr style=\"text-align: right;\">\n",
       "      <th></th>\n",
       "      <th>Title</th>\n",
       "      <th>IMDB id</th>\n",
       "      <th>Year</th>\n",
       "      <th>Rating</th>\n",
       "      <th>Genre</th>\n",
       "      <th>Top_cast</th>\n",
       "    </tr>\n",
       "  </thead>\n",
       "  <tbody>\n",
       "    <tr>\n",
       "      <th>0</th>\n",
       "      <td>3 Idiots</td>\n",
       "      <td>tt1187043</td>\n",
       "      <td>2009</td>\n",
       "      <td>8.4</td>\n",
       "      <td>Comedy, Drama</td>\n",
       "      <td>Aamir Khan, Madhavan, Sharman Joshi</td>\n",
       "    </tr>\n",
       "    <tr>\n",
       "      <th>1</th>\n",
       "      <td>Like Stars on Earth</td>\n",
       "      <td>tt0986264</td>\n",
       "      <td>2007</td>\n",
       "      <td>8.3</td>\n",
       "      <td>Drama, Family</td>\n",
       "      <td>Darsheel Safary, Aamir Khan, Tanay Chheda</td>\n",
       "    </tr>\n",
       "    <tr>\n",
       "      <th>2</th>\n",
       "      <td>PK</td>\n",
       "      <td>tt2338151</td>\n",
       "      <td>2014</td>\n",
       "      <td>8.1</td>\n",
       "      <td>Comedy, Drama, Sci-Fi</td>\n",
       "      <td>Aamir Khan, Anushka Sharma, Saurabh Shukla</td>\n",
       "    </tr>\n",
       "    <tr>\n",
       "      <th>3</th>\n",
       "      <td>Dangal</td>\n",
       "      <td>tt5074352</td>\n",
       "      <td>2016</td>\n",
       "      <td>8.3</td>\n",
       "      <td>Action, Biography, Drama, Sport</td>\n",
       "      <td>Aamir Khan, Fatima Sana Shaikh, Sanya Malhotra</td>\n",
       "    </tr>\n",
       "    <tr>\n",
       "      <th>4</th>\n",
       "      <td>Rang De Basanti</td>\n",
       "      <td>tt0405508</td>\n",
       "      <td>2006</td>\n",
       "      <td>8.1</td>\n",
       "      <td>Comedy, Crime, Drama</td>\n",
       "      <td>Aamir Khan, Siddharth, Sharman Joshi</td>\n",
       "    </tr>\n",
       "    <tr>\n",
       "      <th>5</th>\n",
       "      <td>Lagaan: Once Upon a Time in India</td>\n",
       "      <td>tt0169102</td>\n",
       "      <td>2001</td>\n",
       "      <td>8.1</td>\n",
       "      <td>Drama, Musical, Sport</td>\n",
       "      <td>Aamir Khan, Gracy Singh, Rachel Shelley</td>\n",
       "    </tr>\n",
       "    <tr>\n",
       "      <th>6</th>\n",
       "      <td>My Name Is Khan</td>\n",
       "      <td>tt1188996</td>\n",
       "      <td>2010</td>\n",
       "      <td>7.9</td>\n",
       "      <td>Adventure, Drama, Romance</td>\n",
       "      <td>Shah Rukh Khan, Kajol, Katie Amanda Keane</td>\n",
       "    </tr>\n",
       "    <tr>\n",
       "      <th>7</th>\n",
       "      <td>Swades</td>\n",
       "      <td>tt0367110</td>\n",
       "      <td>2004</td>\n",
       "      <td>8.2</td>\n",
       "      <td>Drama, Musical</td>\n",
       "      <td>Shah Rukh Khan, Gayatri Joshi, Kishori Ballal</td>\n",
       "    </tr>\n",
       "    <tr>\n",
       "      <th>8</th>\n",
       "      <td>Gangs of Wasseypur</td>\n",
       "      <td>tt1954470</td>\n",
       "      <td>2012</td>\n",
       "      <td>8.2</td>\n",
       "      <td>Action, Comedy, Crime, Drama, Thriller</td>\n",
       "      <td>Manoj Bajpayee, Nawazuddin Siddiqui, Tigmanshu</td>\n",
       "    </tr>\n",
       "    <tr>\n",
       "      <th>9</th>\n",
       "      <td>Gangs of Wasseypur</td>\n",
       "      <td>tt1954470</td>\n",
       "      <td>2012</td>\n",
       "      <td>8.2</td>\n",
       "      <td>Action, Comedy, Crime, Drama, Thriller</td>\n",
       "      <td>Manoj Bajpayee, Nawazuddin Siddiqui, Tigmanshu</td>\n",
       "    </tr>\n",
       "  </tbody>\n",
       "</table>\n",
       "</div>"
      ],
      "text/plain": [
       "                               Title    IMDB id  Year  Rating  \\\n",
       "0                           3 Idiots  tt1187043  2009     8.4   \n",
       "1                Like Stars on Earth  tt0986264  2007     8.3   \n",
       "2                                 PK  tt2338151  2014     8.1   \n",
       "3                             Dangal  tt5074352  2016     8.3   \n",
       "4                    Rang De Basanti  tt0405508  2006     8.1   \n",
       "5  Lagaan: Once Upon a Time in India  tt0169102  2001     8.1   \n",
       "6                    My Name Is Khan  tt1188996  2010     7.9   \n",
       "7                             Swades  tt0367110  2004     8.2   \n",
       "8                 Gangs of Wasseypur  tt1954470  2012     8.2   \n",
       "9                 Gangs of Wasseypur  tt1954470  2012     8.2   \n",
       "\n",
       "                                    Genre  \\\n",
       "0                           Comedy, Drama   \n",
       "1                           Drama, Family   \n",
       "2                   Comedy, Drama, Sci-Fi   \n",
       "3         Action, Biography, Drama, Sport   \n",
       "4                    Comedy, Crime, Drama   \n",
       "5                   Drama, Musical, Sport   \n",
       "6               Adventure, Drama, Romance   \n",
       "7                          Drama, Musical   \n",
       "8  Action, Comedy, Crime, Drama, Thriller   \n",
       "9  Action, Comedy, Crime, Drama, Thriller   \n",
       "\n",
       "                                         Top_cast  \n",
       "0             Aamir Khan, Madhavan, Sharman Joshi  \n",
       "1       Darsheel Safary, Aamir Khan, Tanay Chheda  \n",
       "2      Aamir Khan, Anushka Sharma, Saurabh Shukla  \n",
       "3  Aamir Khan, Fatima Sana Shaikh, Sanya Malhotra  \n",
       "4            Aamir Khan, Siddharth, Sharman Joshi  \n",
       "5         Aamir Khan, Gracy Singh, Rachel Shelley  \n",
       "6      Shah Rukh Khan, Kajol, Katie Amanda Keane   \n",
       "7   Shah Rukh Khan, Gayatri Joshi, Kishori Ballal  \n",
       "8  Manoj Bajpayee, Nawazuddin Siddiqui, Tigmanshu  \n",
       "9  Manoj Bajpayee, Nawazuddin Siddiqui, Tigmanshu  "
      ]
     },
     "execution_count": 42,
     "metadata": {},
     "output_type": "execute_result"
    }
   ],
   "source": [
    "movie_info.head(10)"
   ]
  },
  {
   "cell_type": "markdown",
   "id": "e23965cd",
   "metadata": {},
   "source": [
    "# Model Building"
   ]
  },
  {
   "cell_type": "code",
   "execution_count": 43,
   "id": "693946b9",
   "metadata": {},
   "outputs": [],
   "source": [
    "from sklearn.feature_extraction.text import TfidfVectorizer\n",
    "from sklearn.metrics.pairwise  import linear_kernel"
   ]
  },
  {
   "cell_type": "code",
   "execution_count": 44,
   "id": "960d7a96",
   "metadata": {},
   "outputs": [],
   "source": [
    "tfid=TfidfVectorizer()"
   ]
  },
  {
   "cell_type": "code",
   "execution_count": 46,
   "id": "0d7af6d4",
   "metadata": {},
   "outputs": [],
   "source": [
    "vectors = tfid.fit_transform(movie_info['Genre'])"
   ]
  },
  {
   "cell_type": "code",
   "execution_count": 47,
   "id": "b30e5741",
   "metadata": {},
   "outputs": [
    {
     "data": {
      "text/plain": [
       "array([[0.        , 0.        , 0.        , 0.        , 0.8297695 ,\n",
       "        0.        , 0.        , 0.        , 0.        , 0.55810624,\n",
       "        0.        , 0.        , 0.        , 0.        , 0.        ,\n",
       "        0.        , 0.        , 0.        , 0.        , 0.        ,\n",
       "        0.        , 0.        , 0.        , 0.        , 0.        ,\n",
       "        0.        , 0.        , 0.        ]])"
      ]
     },
     "execution_count": 47,
     "metadata": {},
     "output_type": "execute_result"
    }
   ],
   "source": [
    "vectors[0].toarray()"
   ]
  },
  {
   "cell_type": "code",
   "execution_count": 48,
   "id": "0f6a2155",
   "metadata": {},
   "outputs": [
    {
     "data": {
      "text/plain": [
       "array([[1.        , 0.16488675, 0.30352976, ..., 0.20158839, 0.74799403,\n",
       "        0.8297695 ]])"
      ]
     },
     "execution_count": 48,
     "metadata": {},
     "output_type": "execute_result"
    }
   ],
   "source": [
    "sim_distance = linear_kernel(vectors[0],vectors)\n",
    "sim_distance"
   ]
  },
  {
   "cell_type": "code",
   "execution_count": 49,
   "id": "f6245957",
   "metadata": {},
   "outputs": [],
   "source": [
    "sim_score_df=pd.DataFrame(sim_distance).T\n",
    "sim_score_df.columns=['Scores']"
   ]
  },
  {
   "cell_type": "code",
   "execution_count": 50,
   "id": "03000bce",
   "metadata": {},
   "outputs": [
    {
     "data": {
      "text/html": [
       "<div>\n",
       "<style scoped>\n",
       "    .dataframe tbody tr th:only-of-type {\n",
       "        vertical-align: middle;\n",
       "    }\n",
       "\n",
       "    .dataframe tbody tr th {\n",
       "        vertical-align: top;\n",
       "    }\n",
       "\n",
       "    .dataframe thead th {\n",
       "        text-align: right;\n",
       "    }\n",
       "</style>\n",
       "<table border=\"1\" class=\"dataframe\">\n",
       "  <thead>\n",
       "    <tr style=\"text-align: right;\">\n",
       "      <th></th>\n",
       "      <th>Scores</th>\n",
       "    </tr>\n",
       "  </thead>\n",
       "  <tbody>\n",
       "    <tr>\n",
       "      <th>0</th>\n",
       "      <td>1.000000</td>\n",
       "    </tr>\n",
       "    <tr>\n",
       "      <th>1</th>\n",
       "      <td>0.164887</td>\n",
       "    </tr>\n",
       "    <tr>\n",
       "      <th>2</th>\n",
       "      <td>0.303530</td>\n",
       "    </tr>\n",
       "    <tr>\n",
       "      <th>3</th>\n",
       "      <td>0.105094</td>\n",
       "    </tr>\n",
       "    <tr>\n",
       "      <th>4</th>\n",
       "      <td>0.666622</td>\n",
       "    </tr>\n",
       "    <tr>\n",
       "      <th>...</th>\n",
       "      <td>...</td>\n",
       "    </tr>\n",
       "    <tr>\n",
       "      <th>1094</th>\n",
       "      <td>0.740096</td>\n",
       "    </tr>\n",
       "    <tr>\n",
       "      <th>1095</th>\n",
       "      <td>1.000000</td>\n",
       "    </tr>\n",
       "    <tr>\n",
       "      <th>1096</th>\n",
       "      <td>0.201588</td>\n",
       "    </tr>\n",
       "    <tr>\n",
       "      <th>1097</th>\n",
       "      <td>0.747994</td>\n",
       "    </tr>\n",
       "    <tr>\n",
       "      <th>1098</th>\n",
       "      <td>0.829770</td>\n",
       "    </tr>\n",
       "  </tbody>\n",
       "</table>\n",
       "<p>1099 rows × 1 columns</p>\n",
       "</div>"
      ],
      "text/plain": [
       "        Scores\n",
       "0     1.000000\n",
       "1     0.164887\n",
       "2     0.303530\n",
       "3     0.105094\n",
       "4     0.666622\n",
       "...        ...\n",
       "1094  0.740096\n",
       "1095  1.000000\n",
       "1096  0.201588\n",
       "1097  0.747994\n",
       "1098  0.829770\n",
       "\n",
       "[1099 rows x 1 columns]"
      ]
     },
     "execution_count": 50,
     "metadata": {},
     "output_type": "execute_result"
    }
   ],
   "source": [
    "sim_score_df"
   ]
  },
  {
   "cell_type": "code",
   "execution_count": 51,
   "id": "d2f689b2",
   "metadata": {},
   "outputs": [],
   "source": [
    "index =pd.Series(data=movie_info.index,\n",
    "    index=movie_info[\"Title\"])"
   ]
  },
  {
   "cell_type": "code",
   "execution_count": 52,
   "id": "789e1a96",
   "metadata": {},
   "outputs": [],
   "source": [
    "def recommend(name,n):\n",
    "    sim_distance=linear_kernel(vectors[index[name]],vectors)\n",
    "    sim_score_df=pd.DataFrame(sim_distance).T\n",
    "    sim_score_df.columns=['Scores']\n",
    "    sim_score_df=sim_score_df.sort_values(\"Scores\", ascending=False)\n",
    "\n",
    "    list=[]\n",
    "\n",
    "    for i in range(0,n+1):\n",
    "        result={'Title': movie_info[\"Title\"][sim_score_df.index[i]],\n",
    "                'Genre': movie_info[\"Genre\"][sim_score_df.index[i]],\n",
    "                'Rating': movie_info[\"Rating\"][sim_score_df.index[i]]\n",
    "\n",
    "\n",
    "        }\n",
    "\n",
    "        list.append(result)\n",
    "\n",
    "    return list"
   ]
  },
  {
   "cell_type": "code",
   "execution_count": 53,
   "id": "988fae9b",
   "metadata": {},
   "outputs": [
    {
     "data": {
      "text/html": [
       "<div>\n",
       "<style scoped>\n",
       "    .dataframe tbody tr th:only-of-type {\n",
       "        vertical-align: middle;\n",
       "    }\n",
       "\n",
       "    .dataframe tbody tr th {\n",
       "        vertical-align: top;\n",
       "    }\n",
       "\n",
       "    .dataframe thead th {\n",
       "        text-align: right;\n",
       "    }\n",
       "</style>\n",
       "<table border=\"1\" class=\"dataframe\">\n",
       "  <thead>\n",
       "    <tr style=\"text-align: right;\">\n",
       "      <th></th>\n",
       "      <th>Title</th>\n",
       "      <th>Genre</th>\n",
       "      <th>Rating</th>\n",
       "    </tr>\n",
       "  </thead>\n",
       "  <tbody>\n",
       "    <tr>\n",
       "      <th>0</th>\n",
       "      <td>Mary Kom</td>\n",
       "      <td>Action, Biography, Drama, Sport</td>\n",
       "      <td>6.8</td>\n",
       "    </tr>\n",
       "    <tr>\n",
       "      <th>1</th>\n",
       "      <td>Dangal</td>\n",
       "      <td>Action, Biography, Drama, Sport</td>\n",
       "      <td>8.3</td>\n",
       "    </tr>\n",
       "    <tr>\n",
       "      <th>2</th>\n",
       "      <td>Azhar</td>\n",
       "      <td>Biography, Drama, Sport</td>\n",
       "      <td>5.7</td>\n",
       "    </tr>\n",
       "    <tr>\n",
       "      <th>3</th>\n",
       "      <td>M.S. Dhoni: The Untold Story</td>\n",
       "      <td>Biography, Drama, Sport</td>\n",
       "      <td>8.0</td>\n",
       "    </tr>\n",
       "    <tr>\n",
       "      <th>4</th>\n",
       "      <td>Bhaag Milkha Bhaag</td>\n",
       "      <td>Biography, Drama, Sport</td>\n",
       "      <td>8.2</td>\n",
       "    </tr>\n",
       "    <tr>\n",
       "      <th>5</th>\n",
       "      <td>Paan Singh Tomar</td>\n",
       "      <td>Action, Biography, Crime, Sport, Thriller</td>\n",
       "      <td>8.2</td>\n",
       "    </tr>\n",
       "  </tbody>\n",
       "</table>\n",
       "</div>"
      ],
      "text/plain": [
       "                          Title                                      Genre  \\\n",
       "0                      Mary Kom            Action, Biography, Drama, Sport   \n",
       "1                        Dangal            Action, Biography, Drama, Sport   \n",
       "2                         Azhar                    Biography, Drama, Sport   \n",
       "3  M.S. Dhoni: The Untold Story                    Biography, Drama, Sport   \n",
       "4            Bhaag Milkha Bhaag                    Biography, Drama, Sport   \n",
       "5              Paan Singh Tomar  Action, Biography, Crime, Sport, Thriller   \n",
       "\n",
       "   Rating  \n",
       "0     6.8  \n",
       "1     8.3  \n",
       "2     5.7  \n",
       "3     8.0  \n",
       "4     8.2  \n",
       "5     8.2  "
      ]
     },
     "execution_count": 53,
     "metadata": {},
     "output_type": "execute_result"
    }
   ],
   "source": [
    "Recommendation_df = pd.DataFrame(recommend('Dangal',5))\n",
    "Recommendation_df"
   ]
  },
  {
   "cell_type": "code",
   "execution_count": null,
   "id": "42981406",
   "metadata": {},
   "outputs": [],
   "source": []
  },
  {
   "cell_type": "code",
   "execution_count": 13,
   "id": "18f27a6f",
   "metadata": {},
   "outputs": [
    {
     "data": {
      "text/plain": [
       "Year\n",
       "2017.0    57\n",
       "2013.0    54\n",
       "2015.0    53\n",
       "2016.0    50\n",
       "2005.0    47\n",
       "          ..\n",
       "1978.0     1\n",
       "1970.0     1\n",
       "1971.0     1\n",
       "1968.0     1\n",
       "1966.0     1\n",
       "Name: count, Length: 68, dtype: int64"
      ]
     },
     "execution_count": 13,
     "metadata": {},
     "output_type": "execute_result"
    }
   ],
   "source": [
    "movie_info['Year'].value_counts()"
   ]
  },
  {
   "cell_type": "code",
   "execution_count": 14,
   "id": "cbe7105a",
   "metadata": {},
   "outputs": [],
   "source": [
    "movie_info['Year'].fillna(movie_info['Year'].mode()[0],inplace=True)"
   ]
  },
  {
   "cell_type": "code",
   "execution_count": 15,
   "id": "8589841f",
   "metadata": {},
   "outputs": [
    {
     "data": {
      "text/plain": [
       "Title          0\n",
       "IMDB id     2853\n",
       "Year           0\n",
       "Rating      2858\n",
       "Genre       2853\n",
       "Top_cast    2853\n",
       "dtype: int64"
      ]
     },
     "execution_count": 15,
     "metadata": {},
     "output_type": "execute_result"
    }
   ],
   "source": [
    "movie_info.isna().sum()"
   ]
  },
  {
   "cell_type": "code",
   "execution_count": 18,
   "id": "05f942ec",
   "metadata": {},
   "outputs": [],
   "source": [
    "movie_info['Rating'].fillna(movie_info['Rating'].mean(),inplace=True)"
   ]
  },
  {
   "cell_type": "code",
   "execution_count": 19,
   "id": "6edc42f8",
   "metadata": {},
   "outputs": [
    {
     "data": {
      "text/plain": [
       "Title          0\n",
       "IMDB id     2853\n",
       "Year           0\n",
       "Rating         0\n",
       "Genre       2853\n",
       "Top_cast    2853\n",
       "dtype: int64"
      ]
     },
     "execution_count": 19,
     "metadata": {},
     "output_type": "execute_result"
    }
   ],
   "source": [
    "movie_info.isna().sum()\n"
   ]
  },
  {
   "cell_type": "code",
   "execution_count": 20,
   "id": "7fc357be",
   "metadata": {},
   "outputs": [],
   "source": [
    "movie_info['Genre'].fillna(movie_info['Genre'].mode()[0],inplace=True)\n"
   ]
  },
  {
   "cell_type": "code",
   "execution_count": 21,
   "id": "d4099d9c",
   "metadata": {},
   "outputs": [
    {
     "data": {
      "text/plain": [
       "Genre\n",
       "Comedy, Drama, Romance                      2936\n",
       "Drama, Romance                                66\n",
       "Action, Crime, Drama                          63\n",
       "Drama                                         44\n",
       "Comedy, Drama                                 35\n",
       "                                            ... \n",
       "Biography, Drama, History, War                 1\n",
       "Action, Crime, Drama, History, Thriller        1\n",
       " Action, Thriller                              1\n",
       "Action, Comedy, Drama, Fantasy, Horror         1\n",
       "Romance, Comedy, Drama                         1\n",
       "Name: count, Length: 315, dtype: int64"
      ]
     },
     "execution_count": 21,
     "metadata": {},
     "output_type": "execute_result"
    }
   ],
   "source": [
    "movie_info['Genre'].value_counts()"
   ]
  },
  {
   "cell_type": "code",
   "execution_count": 14,
   "id": "f7218f5d",
   "metadata": {},
   "outputs": [
    {
     "data": {
      "text/plain": [
       "Title        0\n",
       "IMDB id      0\n",
       "Year         0\n",
       "Rating       0\n",
       "Genre        0\n",
       "Top_cast    14\n",
       "dtype: int64"
      ]
     },
     "execution_count": 14,
     "metadata": {},
     "output_type": "execute_result"
    }
   ],
   "source": [
    "movie_info.isna().sum()"
   ]
  },
  {
   "cell_type": "code",
   "execution_count": 15,
   "id": "0331c623",
   "metadata": {},
   "outputs": [
    {
     "data": {
      "text/plain": [
       "Top_cast\n",
       "Akshay KumarRaju, Suniel ShettyGhanshyam (Shyam)(as Sunil Shetty), Paresh RawalBaburao Ganpatrao Apte      3\n",
       "Joseph Gordon-LevittJon, Scarlett JohanssonBarbara, Julianne MooreEsther                                   3\n",
       "Shah Rukh KhanRahul Raichand, KajolAnjali Sharma, Amitabh BachchanYashvardhan Raichand                     3\n",
       "Harshvardhan RaneInder Parihar, Mawra HocaneSaraswati 'Saru' Parthasarthy, Vijay RaazMustakeen Bhai        3\n",
       "Simon PeggNandor Fodor, Minnie DriverAnne, Christopher LloydDr. Harry Price                                3\n",
       "                                                                                                          ..\n",
       "Salman KhanSuraj Dhanrajgir, Twinkle KhannaKomal Sinha, Johny LeverMahesh(as Johnny Lever)                 1\n",
       "Riteish DeshmukhChampak Chandrakant Chiplunkar, Vivek OberoiAmjad Khan, Rhea ChakrabortyGayatri Ganguly    1\n",
       "Disha Patani, Tiger Shroff, Vivek Oberoi                                                                   1\n",
       "Kunal KemmuKunal P. Darr, Deepal ShawAnita 'Annie', Smiley SuriRenuka(as Smilie)                           1\n",
       "Kiran KumarRajesh, Reena RoyLeela, Sonia SahniProfessor Laxmi(as Sonia Sahani)                             1\n",
       "Name: count, Length: 1974, dtype: int64"
      ]
     },
     "execution_count": 15,
     "metadata": {},
     "output_type": "execute_result"
    }
   ],
   "source": [
    "movie_info['Top_cast'].value_counts()"
   ]
  },
  {
   "cell_type": "code",
   "execution_count": 16,
   "id": "d8d5348b",
   "metadata": {},
   "outputs": [],
   "source": [
    "movie_info['Top_cast'].fillna(movie_info['Top_cast'].mode()[0],inplace=True)"
   ]
  },
  {
   "cell_type": "code",
   "execution_count": 17,
   "id": "3292a1c5",
   "metadata": {},
   "outputs": [
    {
     "data": {
      "text/plain": [
       "Title       0\n",
       "IMDB id     0\n",
       "Year        0\n",
       "Rating      0\n",
       "Genre       0\n",
       "Top_cast    0\n",
       "dtype: int64"
      ]
     },
     "execution_count": 17,
     "metadata": {},
     "output_type": "execute_result"
    }
   ],
   "source": [
    "movie_info.isna().sum()"
   ]
  },
  {
   "cell_type": "code",
   "execution_count": 18,
   "id": "0d8e7686",
   "metadata": {},
   "outputs": [
    {
     "ename": "PermissionError",
     "evalue": "[Errno 13] Permission denied: 'final_data.csv'",
     "output_type": "error",
     "traceback": [
      "\u001b[1;31m---------------------------------------------------------------------------\u001b[0m",
      "\u001b[1;31mPermissionError\u001b[0m                           Traceback (most recent call last)",
      "Cell \u001b[1;32mIn[18], line 1\u001b[0m\n\u001b[1;32m----> 1\u001b[0m movie_info\u001b[38;5;241m.\u001b[39mto_csv(\u001b[38;5;124m'\u001b[39m\u001b[38;5;124mfinal_data.csv\u001b[39m\u001b[38;5;124m'\u001b[39m)\n",
      "File \u001b[1;32mC:\\ProgramData\\anaconda3\\Lib\\site-packages\\pandas\\core\\generic.py:3772\u001b[0m, in \u001b[0;36mNDFrame.to_csv\u001b[1;34m(self, path_or_buf, sep, na_rep, float_format, columns, header, index, index_label, mode, encoding, compression, quoting, quotechar, lineterminator, chunksize, date_format, doublequote, escapechar, decimal, errors, storage_options)\u001b[0m\n\u001b[0;32m   3761\u001b[0m df \u001b[38;5;241m=\u001b[39m \u001b[38;5;28mself\u001b[39m \u001b[38;5;28;01mif\u001b[39;00m \u001b[38;5;28misinstance\u001b[39m(\u001b[38;5;28mself\u001b[39m, ABCDataFrame) \u001b[38;5;28;01melse\u001b[39;00m \u001b[38;5;28mself\u001b[39m\u001b[38;5;241m.\u001b[39mto_frame()\n\u001b[0;32m   3763\u001b[0m formatter \u001b[38;5;241m=\u001b[39m DataFrameFormatter(\n\u001b[0;32m   3764\u001b[0m     frame\u001b[38;5;241m=\u001b[39mdf,\n\u001b[0;32m   3765\u001b[0m     header\u001b[38;5;241m=\u001b[39mheader,\n\u001b[1;32m   (...)\u001b[0m\n\u001b[0;32m   3769\u001b[0m     decimal\u001b[38;5;241m=\u001b[39mdecimal,\n\u001b[0;32m   3770\u001b[0m )\n\u001b[1;32m-> 3772\u001b[0m \u001b[38;5;28;01mreturn\u001b[39;00m DataFrameRenderer(formatter)\u001b[38;5;241m.\u001b[39mto_csv(\n\u001b[0;32m   3773\u001b[0m     path_or_buf,\n\u001b[0;32m   3774\u001b[0m     lineterminator\u001b[38;5;241m=\u001b[39mlineterminator,\n\u001b[0;32m   3775\u001b[0m     sep\u001b[38;5;241m=\u001b[39msep,\n\u001b[0;32m   3776\u001b[0m     encoding\u001b[38;5;241m=\u001b[39mencoding,\n\u001b[0;32m   3777\u001b[0m     errors\u001b[38;5;241m=\u001b[39merrors,\n\u001b[0;32m   3778\u001b[0m     compression\u001b[38;5;241m=\u001b[39mcompression,\n\u001b[0;32m   3779\u001b[0m     quoting\u001b[38;5;241m=\u001b[39mquoting,\n\u001b[0;32m   3780\u001b[0m     columns\u001b[38;5;241m=\u001b[39mcolumns,\n\u001b[0;32m   3781\u001b[0m     index_label\u001b[38;5;241m=\u001b[39mindex_label,\n\u001b[0;32m   3782\u001b[0m     mode\u001b[38;5;241m=\u001b[39mmode,\n\u001b[0;32m   3783\u001b[0m     chunksize\u001b[38;5;241m=\u001b[39mchunksize,\n\u001b[0;32m   3784\u001b[0m     quotechar\u001b[38;5;241m=\u001b[39mquotechar,\n\u001b[0;32m   3785\u001b[0m     date_format\u001b[38;5;241m=\u001b[39mdate_format,\n\u001b[0;32m   3786\u001b[0m     doublequote\u001b[38;5;241m=\u001b[39mdoublequote,\n\u001b[0;32m   3787\u001b[0m     escapechar\u001b[38;5;241m=\u001b[39mescapechar,\n\u001b[0;32m   3788\u001b[0m     storage_options\u001b[38;5;241m=\u001b[39mstorage_options,\n\u001b[0;32m   3789\u001b[0m )\n",
      "File \u001b[1;32mC:\\ProgramData\\anaconda3\\Lib\\site-packages\\pandas\\io\\formats\\format.py:1186\u001b[0m, in \u001b[0;36mDataFrameRenderer.to_csv\u001b[1;34m(self, path_or_buf, encoding, sep, columns, index_label, mode, compression, quoting, quotechar, lineterminator, chunksize, date_format, doublequote, escapechar, errors, storage_options)\u001b[0m\n\u001b[0;32m   1165\u001b[0m     created_buffer \u001b[38;5;241m=\u001b[39m \u001b[38;5;28;01mFalse\u001b[39;00m\n\u001b[0;32m   1167\u001b[0m csv_formatter \u001b[38;5;241m=\u001b[39m CSVFormatter(\n\u001b[0;32m   1168\u001b[0m     path_or_buf\u001b[38;5;241m=\u001b[39mpath_or_buf,\n\u001b[0;32m   1169\u001b[0m     lineterminator\u001b[38;5;241m=\u001b[39mlineterminator,\n\u001b[1;32m   (...)\u001b[0m\n\u001b[0;32m   1184\u001b[0m     formatter\u001b[38;5;241m=\u001b[39m\u001b[38;5;28mself\u001b[39m\u001b[38;5;241m.\u001b[39mfmt,\n\u001b[0;32m   1185\u001b[0m )\n\u001b[1;32m-> 1186\u001b[0m csv_formatter\u001b[38;5;241m.\u001b[39msave()\n\u001b[0;32m   1188\u001b[0m \u001b[38;5;28;01mif\u001b[39;00m created_buffer:\n\u001b[0;32m   1189\u001b[0m     \u001b[38;5;28;01massert\u001b[39;00m \u001b[38;5;28misinstance\u001b[39m(path_or_buf, StringIO)\n",
      "File \u001b[1;32mC:\\ProgramData\\anaconda3\\Lib\\site-packages\\pandas\\io\\formats\\csvs.py:240\u001b[0m, in \u001b[0;36mCSVFormatter.save\u001b[1;34m(self)\u001b[0m\n\u001b[0;32m    236\u001b[0m \u001b[38;5;250m\u001b[39m\u001b[38;5;124;03m\"\"\"\u001b[39;00m\n\u001b[0;32m    237\u001b[0m \u001b[38;5;124;03mCreate the writer & save.\u001b[39;00m\n\u001b[0;32m    238\u001b[0m \u001b[38;5;124;03m\"\"\"\u001b[39;00m\n\u001b[0;32m    239\u001b[0m \u001b[38;5;66;03m# apply compression and byte/text conversion\u001b[39;00m\n\u001b[1;32m--> 240\u001b[0m \u001b[38;5;28;01mwith\u001b[39;00m get_handle(\n\u001b[0;32m    241\u001b[0m     \u001b[38;5;28mself\u001b[39m\u001b[38;5;241m.\u001b[39mfilepath_or_buffer,\n\u001b[0;32m    242\u001b[0m     \u001b[38;5;28mself\u001b[39m\u001b[38;5;241m.\u001b[39mmode,\n\u001b[0;32m    243\u001b[0m     encoding\u001b[38;5;241m=\u001b[39m\u001b[38;5;28mself\u001b[39m\u001b[38;5;241m.\u001b[39mencoding,\n\u001b[0;32m    244\u001b[0m     errors\u001b[38;5;241m=\u001b[39m\u001b[38;5;28mself\u001b[39m\u001b[38;5;241m.\u001b[39merrors,\n\u001b[0;32m    245\u001b[0m     compression\u001b[38;5;241m=\u001b[39m\u001b[38;5;28mself\u001b[39m\u001b[38;5;241m.\u001b[39mcompression,\n\u001b[0;32m    246\u001b[0m     storage_options\u001b[38;5;241m=\u001b[39m\u001b[38;5;28mself\u001b[39m\u001b[38;5;241m.\u001b[39mstorage_options,\n\u001b[0;32m    247\u001b[0m ) \u001b[38;5;28;01mas\u001b[39;00m handles:\n\u001b[0;32m    248\u001b[0m     \u001b[38;5;66;03m# Note: self.encoding is irrelevant here\u001b[39;00m\n\u001b[0;32m    249\u001b[0m     \u001b[38;5;28mself\u001b[39m\u001b[38;5;241m.\u001b[39mwriter \u001b[38;5;241m=\u001b[39m csvlib\u001b[38;5;241m.\u001b[39mwriter(\n\u001b[0;32m    250\u001b[0m         handles\u001b[38;5;241m.\u001b[39mhandle,\n\u001b[0;32m    251\u001b[0m         lineterminator\u001b[38;5;241m=\u001b[39m\u001b[38;5;28mself\u001b[39m\u001b[38;5;241m.\u001b[39mlineterminator,\n\u001b[1;32m   (...)\u001b[0m\n\u001b[0;32m    256\u001b[0m         quotechar\u001b[38;5;241m=\u001b[39m\u001b[38;5;28mself\u001b[39m\u001b[38;5;241m.\u001b[39mquotechar,\n\u001b[0;32m    257\u001b[0m     )\n\u001b[0;32m    259\u001b[0m     \u001b[38;5;28mself\u001b[39m\u001b[38;5;241m.\u001b[39m_save()\n",
      "File \u001b[1;32mC:\\ProgramData\\anaconda3\\Lib\\site-packages\\pandas\\io\\common.py:859\u001b[0m, in \u001b[0;36mget_handle\u001b[1;34m(path_or_buf, mode, encoding, compression, memory_map, is_text, errors, storage_options)\u001b[0m\n\u001b[0;32m    854\u001b[0m \u001b[38;5;28;01melif\u001b[39;00m \u001b[38;5;28misinstance\u001b[39m(handle, \u001b[38;5;28mstr\u001b[39m):\n\u001b[0;32m    855\u001b[0m     \u001b[38;5;66;03m# Check whether the filename is to be opened in binary mode.\u001b[39;00m\n\u001b[0;32m    856\u001b[0m     \u001b[38;5;66;03m# Binary mode does not support 'encoding' and 'newline'.\u001b[39;00m\n\u001b[0;32m    857\u001b[0m     \u001b[38;5;28;01mif\u001b[39;00m ioargs\u001b[38;5;241m.\u001b[39mencoding \u001b[38;5;129;01mand\u001b[39;00m \u001b[38;5;124m\"\u001b[39m\u001b[38;5;124mb\u001b[39m\u001b[38;5;124m\"\u001b[39m \u001b[38;5;129;01mnot\u001b[39;00m \u001b[38;5;129;01min\u001b[39;00m ioargs\u001b[38;5;241m.\u001b[39mmode:\n\u001b[0;32m    858\u001b[0m         \u001b[38;5;66;03m# Encoding\u001b[39;00m\n\u001b[1;32m--> 859\u001b[0m         handle \u001b[38;5;241m=\u001b[39m \u001b[38;5;28mopen\u001b[39m(\n\u001b[0;32m    860\u001b[0m             handle,\n\u001b[0;32m    861\u001b[0m             ioargs\u001b[38;5;241m.\u001b[39mmode,\n\u001b[0;32m    862\u001b[0m             encoding\u001b[38;5;241m=\u001b[39mioargs\u001b[38;5;241m.\u001b[39mencoding,\n\u001b[0;32m    863\u001b[0m             errors\u001b[38;5;241m=\u001b[39merrors,\n\u001b[0;32m    864\u001b[0m             newline\u001b[38;5;241m=\u001b[39m\u001b[38;5;124m\"\u001b[39m\u001b[38;5;124m\"\u001b[39m,\n\u001b[0;32m    865\u001b[0m         )\n\u001b[0;32m    866\u001b[0m     \u001b[38;5;28;01melse\u001b[39;00m:\n\u001b[0;32m    867\u001b[0m         \u001b[38;5;66;03m# Binary mode\u001b[39;00m\n\u001b[0;32m    868\u001b[0m         handle \u001b[38;5;241m=\u001b[39m \u001b[38;5;28mopen\u001b[39m(handle, ioargs\u001b[38;5;241m.\u001b[39mmode)\n",
      "\u001b[1;31mPermissionError\u001b[0m: [Errno 13] Permission denied: 'final_data.csv'"
     ]
    }
   ],
   "source": [
    "movie_info.to_csv('final_data.csv')"
   ]
  },
  {
   "cell_type": "code",
   "execution_count": null,
   "id": "e82277f8",
   "metadata": {},
   "outputs": [],
   "source": [
    "movie_info.dtypes"
   ]
  },
  {
   "cell_type": "code",
   "execution_count": null,
   "id": "a0a01c07",
   "metadata": {},
   "outputs": [],
   "source": [
    "movie_info['Year']=movie_info['Year'].str.replace('â€“','-')"
   ]
  },
  {
   "cell_type": "code",
   "execution_count": null,
   "id": "453c2b8a",
   "metadata": {},
   "outputs": [],
   "source": [
    "movie_info['Year']"
   ]
  },
  {
   "cell_type": "code",
   "execution_count": null,
   "id": "26569ef3",
   "metadata": {},
   "outputs": [],
   "source": [
    "#TfidVectorizer is NLP Concept\n",
    "tfid=TfidfVectorizer()"
   ]
  },
  {
   "cell_type": "code",
   "execution_count": null,
   "id": "499865d7",
   "metadata": {},
   "outputs": [],
   "source": [
    "vectors=tfid.fit_transform(movie_info['Genre'])"
   ]
  },
  {
   "cell_type": "code",
   "execution_count": null,
   "id": "8c52c459",
   "metadata": {},
   "outputs": [],
   "source": [
    "vectors[0].toarray()"
   ]
  },
  {
   "cell_type": "code",
   "execution_count": null,
   "id": "ec6e4134",
   "metadata": {},
   "outputs": [],
   "source": [
    "similartiy_distance=linear_kernel(vectors[0],vectors)"
   ]
  },
  {
   "cell_type": "code",
   "execution_count": null,
   "id": "e6d3c898",
   "metadata": {},
   "outputs": [],
   "source": [
    "similartiy_distance"
   ]
  },
  {
   "cell_type": "code",
   "execution_count": null,
   "id": "e20dee1f",
   "metadata": {},
   "outputs": [],
   "source": [
    "similarity_scores=pd.DataFrame(similartiy_distance).T\n",
    "similarity_scores.columns=['Scores']"
   ]
  },
  {
   "cell_type": "code",
   "execution_count": null,
   "id": "0c1fb66f",
   "metadata": {},
   "outputs": [],
   "source": [
    "similarity_scores"
   ]
  },
  {
   "cell_type": "code",
   "execution_count": null,
   "id": "b52348d1",
   "metadata": {},
   "outputs": [],
   "source": [
    "index=pd.Series(data=movie_info.index,index=movie_info['Title'])\n",
    "index"
   ]
  },
  {
   "cell_type": "code",
   "execution_count": null,
   "id": "ed86cc68",
   "metadata": {},
   "outputs": [],
   "source": []
  },
  {
   "cell_type": "code",
   "execution_count": null,
   "id": "803d6382",
   "metadata": {},
   "outputs": [],
   "source": []
  },
  {
   "cell_type": "code",
   "execution_count": null,
   "id": "8b7bdc87",
   "metadata": {},
   "outputs": [],
   "source": []
  },
  {
   "cell_type": "code",
   "execution_count": null,
   "id": "a07057e8",
   "metadata": {},
   "outputs": [],
   "source": []
  },
  {
   "cell_type": "code",
   "execution_count": null,
   "id": "8b7eafc4",
   "metadata": {},
   "outputs": [],
   "source": []
  },
  {
   "cell_type": "code",
   "execution_count": null,
   "id": "c05bb5b8",
   "metadata": {},
   "outputs": [],
   "source": [
    "def Movie_names(name,n):\n",
    "    print(index[name])\n",
    "    similartiy_distance=linear_kernel(vectors[index[name]],vectors)\n",
    "    similarity_scores=pd.DataFrame(similartiy_distance).T\n",
    "    similarity_scores.columns=['Scores']\n",
    "    similarity_scores=similarity_scores.sort_values(\"Scores\",ascending=False)\n",
    "    empty_list=[]\n",
    "    for i in range(0,n+1):\n",
    "        result={'Title':movie_info['Title'][similarity_scores.index[i]],\n",
    "            'Genre':movie_info['Genre'][similarity_scores.index[i]],\n",
    "            'Rating': movie_info['Rating'][similarity_scores.index[i]]\n",
    "            }\n",
    "        empty_list.append(result)\n",
    "    return empty_list"
   ]
  },
  {
   "cell_type": "code",
   "execution_count": null,
   "id": "9b1e05cf",
   "metadata": {},
   "outputs": [],
   "source": [
    "final_output=pd.DataFrame(Movie_names('PK',3))"
   ]
  },
  {
   "cell_type": "code",
   "execution_count": 19,
   "id": "3239773c",
   "metadata": {},
   "outputs": [
    {
     "ename": "NameError",
     "evalue": "name 'final_output' is not defined",
     "output_type": "error",
     "traceback": [
      "\u001b[1;31m---------------------------------------------------------------------------\u001b[0m",
      "\u001b[1;31mNameError\u001b[0m                                 Traceback (most recent call last)",
      "Cell \u001b[1;32mIn[19], line 1\u001b[0m\n\u001b[1;32m----> 1\u001b[0m final_output\n",
      "\u001b[1;31mNameError\u001b[0m: name 'final_output' is not defined"
     ]
    }
   ],
   "source": [
    "final_output"
   ]
  },
  {
   "cell_type": "code",
   "execution_count": null,
   "id": "0e06207c",
   "metadata": {},
   "outputs": [],
   "source": [
    "with open('movie_info.pkl','wb')as f:\n",
    "    pickle.dump(Movie_names,f)\n",
    "print(\"saved successfully\")"
   ]
  },
  {
   "cell_type": "code",
   "execution_count": null,
   "id": "7f4f8972",
   "metadata": {},
   "outputs": [],
   "source": []
  },
  {
   "cell_type": "code",
   "execution_count": null,
   "id": "01dcd7fe",
   "metadata": {},
   "outputs": [],
   "source": []
  },
  {
   "cell_type": "code",
   "execution_count": null,
   "id": "4e3181a0",
   "metadata": {},
   "outputs": [],
   "source": []
  },
  {
   "cell_type": "code",
   "execution_count": null,
   "id": "d70eb8eb",
   "metadata": {},
   "outputs": [],
   "source": []
  },
  {
   "cell_type": "code",
   "execution_count": null,
   "id": "48d3cfee",
   "metadata": {},
   "outputs": [],
   "source": []
  },
  {
   "cell_type": "code",
   "execution_count": null,
   "id": "723cb665",
   "metadata": {},
   "outputs": [],
   "source": []
  },
  {
   "cell_type": "code",
   "execution_count": null,
   "id": "5bf5ecb7",
   "metadata": {},
   "outputs": [],
   "source": []
  },
  {
   "cell_type": "code",
   "execution_count": null,
   "id": "dec920d5",
   "metadata": {},
   "outputs": [],
   "source": []
  },
  {
   "cell_type": "code",
   "execution_count": null,
   "id": "076ab703",
   "metadata": {},
   "outputs": [],
   "source": []
  },
  {
   "cell_type": "code",
   "execution_count": null,
   "id": "9af98775",
   "metadata": {},
   "outputs": [],
   "source": []
  },
  {
   "cell_type": "code",
   "execution_count": null,
   "id": "58681c46",
   "metadata": {},
   "outputs": [],
   "source": []
  },
  {
   "cell_type": "code",
   "execution_count": null,
   "id": "192e8b31",
   "metadata": {},
   "outputs": [],
   "source": []
  },
  {
   "cell_type": "code",
   "execution_count": null,
   "id": "31790356",
   "metadata": {},
   "outputs": [],
   "source": []
  }
 ],
 "metadata": {
  "kernelspec": {
   "display_name": "Python 3 (ipykernel)",
   "language": "python",
   "name": "python3"
  },
  "language_info": {
   "codemirror_mode": {
    "name": "ipython",
    "version": 3
   },
   "file_extension": ".py",
   "mimetype": "text/x-python",
   "name": "python",
   "nbconvert_exporter": "python",
   "pygments_lexer": "ipython3",
   "version": "3.11.5"
  }
 },
 "nbformat": 4,
 "nbformat_minor": 5
}
