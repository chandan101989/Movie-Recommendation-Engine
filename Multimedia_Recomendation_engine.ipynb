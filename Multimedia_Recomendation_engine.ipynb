{
 "cells": [
  {
   "cell_type": "markdown",
   "id": "7b6f4cfe",
   "metadata": {},
   "source": [
    "# Import Libraries"
   ]
  },
  {
   "cell_type": "code",
   "execution_count": 1,
   "id": "cdc310e0",
   "metadata": {},
   "outputs": [],
   "source": [
    "import pandas as pd \n",
    "from sklearn.feature_extraction.text import TfidfVectorizer\n",
    "from sklearn.metrics.pairwise import linear_kernel\n",
    "import pickle"
   ]
  },
  {
   "cell_type": "markdown",
   "id": "81a80575",
   "metadata": {},
   "source": [
    "# Data Reading"
   ]
  },
  {
   "cell_type": "code",
   "execution_count": 8,
   "id": "1c2bc172",
   "metadata": {},
   "outputs": [],
   "source": [
    "movie_info=pd.read_csv('movie_list.csv')"
   ]
  },
  {
   "cell_type": "code",
   "execution_count": 9,
   "id": "baa423b5",
   "metadata": {},
   "outputs": [
    {
     "data": {
      "text/html": [
       "<div>\n",
       "<style scoped>\n",
       "    .dataframe tbody tr th:only-of-type {\n",
       "        vertical-align: middle;\n",
       "    }\n",
       "\n",
       "    .dataframe tbody tr th {\n",
       "        vertical-align: top;\n",
       "    }\n",
       "\n",
       "    .dataframe thead th {\n",
       "        text-align: right;\n",
       "    }\n",
       "</style>\n",
       "<table border=\"1\" class=\"dataframe\">\n",
       "  <thead>\n",
       "    <tr style=\"text-align: right;\">\n",
       "      <th></th>\n",
       "      <th>Title</th>\n",
       "      <th>IMDB id</th>\n",
       "      <th>Year</th>\n",
       "      <th>Rating</th>\n",
       "      <th>Genre</th>\n",
       "      <th>Top_cast</th>\n",
       "    </tr>\n",
       "  </thead>\n",
       "  <tbody>\n",
       "    <tr>\n",
       "      <th>0</th>\n",
       "      <td>3 Idiots</td>\n",
       "      <td>tt1187043</td>\n",
       "      <td>2009.0</td>\n",
       "      <td>8.4</td>\n",
       "      <td>Comedy, Drama</td>\n",
       "      <td>Aamir Khan, Madhavan, Sharman Joshi</td>\n",
       "    </tr>\n",
       "    <tr>\n",
       "      <th>1</th>\n",
       "      <td>Like Stars on Earth</td>\n",
       "      <td>tt0986264</td>\n",
       "      <td>2007.0</td>\n",
       "      <td>8.3</td>\n",
       "      <td>Drama, Family</td>\n",
       "      <td>Darsheel Safary, Aamir Khan, Tanay Chheda</td>\n",
       "    </tr>\n",
       "    <tr>\n",
       "      <th>2</th>\n",
       "      <td>PK</td>\n",
       "      <td>tt2338151</td>\n",
       "      <td>2014.0</td>\n",
       "      <td>8.1</td>\n",
       "      <td>Comedy, Drama, Sci-Fi</td>\n",
       "      <td>Aamir Khan, Anushka Sharma, Saurabh Shukla</td>\n",
       "    </tr>\n",
       "    <tr>\n",
       "      <th>3</th>\n",
       "      <td>Dangal</td>\n",
       "      <td>tt5074352</td>\n",
       "      <td>2016.0</td>\n",
       "      <td>8.3</td>\n",
       "      <td>Action, Biography, Drama, Sport</td>\n",
       "      <td>Aamir Khan, Fatima Sana Shaikh, Sanya Malhotra</td>\n",
       "    </tr>\n",
       "    <tr>\n",
       "      <th>4</th>\n",
       "      <td>Rang De Basanti</td>\n",
       "      <td>tt0405508</td>\n",
       "      <td>2006.0</td>\n",
       "      <td>8.1</td>\n",
       "      <td>Comedy, Crime, Drama</td>\n",
       "      <td>Aamir Khan, Siddharth, Sharman Joshi</td>\n",
       "    </tr>\n",
       "    <tr>\n",
       "      <th>...</th>\n",
       "      <td>...</td>\n",
       "      <td>...</td>\n",
       "      <td>...</td>\n",
       "      <td>...</td>\n",
       "      <td>...</td>\n",
       "      <td>...</td>\n",
       "    </tr>\n",
       "    <tr>\n",
       "      <th>3947</th>\n",
       "      <td>Mehmaan</td>\n",
       "      <td>NaN</td>\n",
       "      <td>NaN</td>\n",
       "      <td>NaN</td>\n",
       "      <td>NaN</td>\n",
       "      <td>NaN</td>\n",
       "    </tr>\n",
       "    <tr>\n",
       "      <th>3948</th>\n",
       "      <td>Sorry Daddy</td>\n",
       "      <td>NaN</td>\n",
       "      <td>NaN</td>\n",
       "      <td>NaN</td>\n",
       "      <td>NaN</td>\n",
       "      <td>NaN</td>\n",
       "    </tr>\n",
       "    <tr>\n",
       "      <th>3949</th>\n",
       "      <td>Raadha Aur Seeta</td>\n",
       "      <td>NaN</td>\n",
       "      <td>NaN</td>\n",
       "      <td>NaN</td>\n",
       "      <td>NaN</td>\n",
       "      <td>NaN</td>\n",
       "    </tr>\n",
       "    <tr>\n",
       "      <th>3950</th>\n",
       "      <td>Dafaa 302: Indian Penal Code Section 302</td>\n",
       "      <td>NaN</td>\n",
       "      <td>NaN</td>\n",
       "      <td>NaN</td>\n",
       "      <td>NaN</td>\n",
       "      <td>NaN</td>\n",
       "    </tr>\n",
       "    <tr>\n",
       "      <th>3951</th>\n",
       "      <td>Calapor</td>\n",
       "      <td>NaN</td>\n",
       "      <td>NaN</td>\n",
       "      <td>NaN</td>\n",
       "      <td>NaN</td>\n",
       "      <td>NaN</td>\n",
       "    </tr>\n",
       "  </tbody>\n",
       "</table>\n",
       "<p>3952 rows × 6 columns</p>\n",
       "</div>"
      ],
      "text/plain": [
       "                                         Title    IMDB id    Year  Rating  \\\n",
       "0                                     3 Idiots  tt1187043  2009.0     8.4   \n",
       "1                          Like Stars on Earth  tt0986264  2007.0     8.3   \n",
       "2                                           PK  tt2338151  2014.0     8.1   \n",
       "3                                       Dangal  tt5074352  2016.0     8.3   \n",
       "4                              Rang De Basanti  tt0405508  2006.0     8.1   \n",
       "...                                        ...        ...     ...     ...   \n",
       "3947                                   Mehmaan        NaN     NaN     NaN   \n",
       "3948                               Sorry Daddy        NaN     NaN     NaN   \n",
       "3949                          Raadha Aur Seeta        NaN     NaN     NaN   \n",
       "3950  Dafaa 302: Indian Penal Code Section 302        NaN     NaN     NaN   \n",
       "3951                                   Calapor        NaN     NaN     NaN   \n",
       "\n",
       "                                 Genre  \\\n",
       "0                        Comedy, Drama   \n",
       "1                        Drama, Family   \n",
       "2                Comedy, Drama, Sci-Fi   \n",
       "3      Action, Biography, Drama, Sport   \n",
       "4                 Comedy, Crime, Drama   \n",
       "...                                ...   \n",
       "3947                               NaN   \n",
       "3948                               NaN   \n",
       "3949                               NaN   \n",
       "3950                               NaN   \n",
       "3951                               NaN   \n",
       "\n",
       "                                            Top_cast  \n",
       "0                Aamir Khan, Madhavan, Sharman Joshi  \n",
       "1          Darsheel Safary, Aamir Khan, Tanay Chheda  \n",
       "2         Aamir Khan, Anushka Sharma, Saurabh Shukla  \n",
       "3     Aamir Khan, Fatima Sana Shaikh, Sanya Malhotra  \n",
       "4               Aamir Khan, Siddharth, Sharman Joshi  \n",
       "...                                              ...  \n",
       "3947                                             NaN  \n",
       "3948                                             NaN  \n",
       "3949                                             NaN  \n",
       "3950                                             NaN  \n",
       "3951                                             NaN  \n",
       "\n",
       "[3952 rows x 6 columns]"
      ]
     },
     "execution_count": 9,
     "metadata": {},
     "output_type": "execute_result"
    }
   ],
   "source": [
    "movie_info"
   ]
  },
  {
   "cell_type": "markdown",
   "id": "078af0d7",
   "metadata": {},
   "source": [
    "# Data Understanding"
   ]
  },
  {
   "cell_type": "code",
   "execution_count": 22,
   "id": "f42ceb70",
   "metadata": {},
   "outputs": [
    {
     "data": {
      "text/plain": [
       "Index(['Title', 'IMDB id', 'Year', 'Rating', 'Genre', 'Top_cast'], dtype='object')"
      ]
     },
     "execution_count": 22,
     "metadata": {},
     "output_type": "execute_result"
    }
   ],
   "source": [
    "movie_info.columns"
   ]
  },
  {
   "cell_type": "code",
   "execution_count": 23,
   "id": "a3d66f9a",
   "metadata": {},
   "outputs": [
    {
     "data": {
      "text/plain": [
       "(3952, 6)"
      ]
     },
     "execution_count": 23,
     "metadata": {},
     "output_type": "execute_result"
    }
   ],
   "source": [
    "movie_info.shape"
   ]
  },
  {
   "cell_type": "code",
   "execution_count": 25,
   "id": "404553a1",
   "metadata": {},
   "outputs": [
    {
     "data": {
      "text/plain": [
       "Title          0\n",
       "IMDB id     2853\n",
       "Year           0\n",
       "Rating         0\n",
       "Genre          0\n",
       "Top_cast    2853\n",
       "dtype: int64"
      ]
     },
     "execution_count": 25,
     "metadata": {},
     "output_type": "execute_result"
    }
   ],
   "source": [
    "movie_info.isna().sum()"
   ]
  },
  {
   "cell_type": "code",
   "execution_count": 27,
   "id": "18866300",
   "metadata": {},
   "outputs": [
    {
     "data": {
      "text/plain": [
       "Title        object\n",
       "IMDB id      object\n",
       "Year        float64\n",
       "Rating      float64\n",
       "Genre        object\n",
       "Top_cast     object\n",
       "dtype: object"
      ]
     },
     "execution_count": 27,
     "metadata": {},
     "output_type": "execute_result"
    }
   ],
   "source": [
    "movie_info.dtypes"
   ]
  },
  {
   "cell_type": "markdown",
   "id": "9df1bb9e",
   "metadata": {},
   "source": [
    "# Data Preprocessing\n",
    "\n",
    " * Data Cleaning\n",
    " * Datatype Conversation\n",
    " * Data Transformation"
   ]
  },
  {
   "cell_type": "markdown",
   "id": "564515b7",
   "metadata": {},
   "source": [
    "### Data Cleaning"
   ]
  },
  {
   "cell_type": "code",
   "execution_count": 30,
   "id": "712ff82d",
   "metadata": {},
   "outputs": [
    {
     "data": {
      "text/plain": [
       "Title          0\n",
       "IMDB id     2853\n",
       "Year           0\n",
       "Rating         0\n",
       "Genre          0\n",
       "Top_cast    2853\n",
       "dtype: int64"
      ]
     },
     "execution_count": 30,
     "metadata": {},
     "output_type": "execute_result"
    }
   ],
   "source": [
    "movie_info.isnull().sum()"
   ]
  },
  {
   "cell_type": "code",
   "execution_count": 32,
   "id": "9eb0f233",
   "metadata": {},
   "outputs": [],
   "source": [
    "movie_info.dropna(inplace=True)"
   ]
  },
  {
   "cell_type": "code",
   "execution_count": 34,
   "id": "6ec60ff7",
   "metadata": {},
   "outputs": [
    {
     "data": {
      "text/html": [
       "<div>\n",
       "<style scoped>\n",
       "    .dataframe tbody tr th:only-of-type {\n",
       "        vertical-align: middle;\n",
       "    }\n",
       "\n",
       "    .dataframe tbody tr th {\n",
       "        vertical-align: top;\n",
       "    }\n",
       "\n",
       "    .dataframe thead th {\n",
       "        text-align: right;\n",
       "    }\n",
       "</style>\n",
       "<table border=\"1\" class=\"dataframe\">\n",
       "  <thead>\n",
       "    <tr style=\"text-align: right;\">\n",
       "      <th></th>\n",
       "      <th>Title</th>\n",
       "      <th>IMDB id</th>\n",
       "      <th>Year</th>\n",
       "      <th>Rating</th>\n",
       "      <th>Genre</th>\n",
       "      <th>Top_cast</th>\n",
       "    </tr>\n",
       "  </thead>\n",
       "  <tbody>\n",
       "    <tr>\n",
       "      <th>0</th>\n",
       "      <td>3 Idiots</td>\n",
       "      <td>tt1187043</td>\n",
       "      <td>2009.0</td>\n",
       "      <td>8.4</td>\n",
       "      <td>Comedy, Drama</td>\n",
       "      <td>Aamir Khan, Madhavan, Sharman Joshi</td>\n",
       "    </tr>\n",
       "    <tr>\n",
       "      <th>1</th>\n",
       "      <td>Like Stars on Earth</td>\n",
       "      <td>tt0986264</td>\n",
       "      <td>2007.0</td>\n",
       "      <td>8.3</td>\n",
       "      <td>Drama, Family</td>\n",
       "      <td>Darsheel Safary, Aamir Khan, Tanay Chheda</td>\n",
       "    </tr>\n",
       "    <tr>\n",
       "      <th>2</th>\n",
       "      <td>PK</td>\n",
       "      <td>tt2338151</td>\n",
       "      <td>2014.0</td>\n",
       "      <td>8.1</td>\n",
       "      <td>Comedy, Drama, Sci-Fi</td>\n",
       "      <td>Aamir Khan, Anushka Sharma, Saurabh Shukla</td>\n",
       "    </tr>\n",
       "    <tr>\n",
       "      <th>3</th>\n",
       "      <td>Dangal</td>\n",
       "      <td>tt5074352</td>\n",
       "      <td>2016.0</td>\n",
       "      <td>8.3</td>\n",
       "      <td>Action, Biography, Drama, Sport</td>\n",
       "      <td>Aamir Khan, Fatima Sana Shaikh, Sanya Malhotra</td>\n",
       "    </tr>\n",
       "    <tr>\n",
       "      <th>4</th>\n",
       "      <td>Rang De Basanti</td>\n",
       "      <td>tt0405508</td>\n",
       "      <td>2006.0</td>\n",
       "      <td>8.1</td>\n",
       "      <td>Comedy, Crime, Drama</td>\n",
       "      <td>Aamir Khan, Siddharth, Sharman Joshi</td>\n",
       "    </tr>\n",
       "    <tr>\n",
       "      <th>...</th>\n",
       "      <td>...</td>\n",
       "      <td>...</td>\n",
       "      <td>...</td>\n",
       "      <td>...</td>\n",
       "      <td>...</td>\n",
       "      <td>...</td>\n",
       "    </tr>\n",
       "    <tr>\n",
       "      <th>1094</th>\n",
       "      <td>Yamla Pagla Deewana Phir Se...</td>\n",
       "      <td>tt7609114</td>\n",
       "      <td>2018.0</td>\n",
       "      <td>4.4</td>\n",
       "      <td>Action, Comedy, Drama</td>\n",
       "      <td>['DharmendraJeet Parmar', 'Sunny DeolPuran', '...</td>\n",
       "    </tr>\n",
       "    <tr>\n",
       "      <th>1095</th>\n",
       "      <td>Saare Jahaan Se Mehnga...</td>\n",
       "      <td>tt2857500</td>\n",
       "      <td>2013.0</td>\n",
       "      <td>7.0</td>\n",
       "      <td>Comedy, Drama</td>\n",
       "      <td>['Annapoorna', 'V.M. Badola', 'Rampal Barsewal']</td>\n",
       "    </tr>\n",
       "    <tr>\n",
       "      <th>1096</th>\n",
       "      <td>Satya 2</td>\n",
       "      <td>tt3059106</td>\n",
       "      <td>2013.0</td>\n",
       "      <td>5.8</td>\n",
       "      <td>Action, Crime, Drama</td>\n",
       "      <td>['Puneet Singh ', 'SharwanandSatya ', 'Anaika ...</td>\n",
       "    </tr>\n",
       "    <tr>\n",
       "      <th>1097</th>\n",
       "      <td>Deewana Mujh Sa Nahin</td>\n",
       "      <td>tt0101742</td>\n",
       "      <td>1990.0</td>\n",
       "      <td>5.0</td>\n",
       "      <td>Romance, Comedy, Drama</td>\n",
       "      <td>['Aamir KhanAjay Sharma', 'Madhuri DixitAnita'...</td>\n",
       "    </tr>\n",
       "    <tr>\n",
       "      <th>1098</th>\n",
       "      <td>The Gay Deceivers</td>\n",
       "      <td>tt0064363</td>\n",
       "      <td>1969.0</td>\n",
       "      <td>5.8</td>\n",
       "      <td>Comedy</td>\n",
       "      <td>['Kevin Coughlin', 'Brooke Bundy', 'Lawrence P...</td>\n",
       "    </tr>\n",
       "  </tbody>\n",
       "</table>\n",
       "<p>1099 rows × 6 columns</p>\n",
       "</div>"
      ],
      "text/plain": [
       "                               Title    IMDB id    Year  Rating  \\\n",
       "0                           3 Idiots  tt1187043  2009.0     8.4   \n",
       "1                Like Stars on Earth  tt0986264  2007.0     8.3   \n",
       "2                                 PK  tt2338151  2014.0     8.1   \n",
       "3                             Dangal  tt5074352  2016.0     8.3   \n",
       "4                    Rang De Basanti  tt0405508  2006.0     8.1   \n",
       "...                              ...        ...     ...     ...   \n",
       "1094  Yamla Pagla Deewana Phir Se...  tt7609114  2018.0     4.4   \n",
       "1095       Saare Jahaan Se Mehnga...  tt2857500  2013.0     7.0   \n",
       "1096                         Satya 2  tt3059106  2013.0     5.8   \n",
       "1097           Deewana Mujh Sa Nahin  tt0101742  1990.0     5.0   \n",
       "1098               The Gay Deceivers  tt0064363  1969.0     5.8   \n",
       "\n",
       "                                 Genre  \\\n",
       "0                        Comedy, Drama   \n",
       "1                        Drama, Family   \n",
       "2                Comedy, Drama, Sci-Fi   \n",
       "3      Action, Biography, Drama, Sport   \n",
       "4                 Comedy, Crime, Drama   \n",
       "...                                ...   \n",
       "1094             Action, Comedy, Drama   \n",
       "1095                     Comedy, Drama   \n",
       "1096              Action, Crime, Drama   \n",
       "1097            Romance, Comedy, Drama   \n",
       "1098                            Comedy   \n",
       "\n",
       "                                               Top_cast  \n",
       "0                   Aamir Khan, Madhavan, Sharman Joshi  \n",
       "1             Darsheel Safary, Aamir Khan, Tanay Chheda  \n",
       "2            Aamir Khan, Anushka Sharma, Saurabh Shukla  \n",
       "3        Aamir Khan, Fatima Sana Shaikh, Sanya Malhotra  \n",
       "4                  Aamir Khan, Siddharth, Sharman Joshi  \n",
       "...                                                 ...  \n",
       "1094  ['DharmendraJeet Parmar', 'Sunny DeolPuran', '...  \n",
       "1095   ['Annapoorna', 'V.M. Badola', 'Rampal Barsewal']  \n",
       "1096  ['Puneet Singh ', 'SharwanandSatya ', 'Anaika ...  \n",
       "1097  ['Aamir KhanAjay Sharma', 'Madhuri DixitAnita'...  \n",
       "1098  ['Kevin Coughlin', 'Brooke Bundy', 'Lawrence P...  \n",
       "\n",
       "[1099 rows x 6 columns]"
      ]
     },
     "execution_count": 34,
     "metadata": {},
     "output_type": "execute_result"
    }
   ],
   "source": [
    "movie_info"
   ]
  },
  {
   "cell_type": "code",
   "execution_count": 36,
   "id": "f5de5751",
   "metadata": {},
   "outputs": [
    {
     "data": {
      "text/plain": [
       "Title       0\n",
       "IMDB id     0\n",
       "Year        0\n",
       "Rating      0\n",
       "Genre       0\n",
       "Top_cast    0\n",
       "dtype: int64"
      ]
     },
     "execution_count": 36,
     "metadata": {},
     "output_type": "execute_result"
    }
   ],
   "source": [
    "movie_info.isna().sum()"
   ]
  },
  {
   "cell_type": "markdown",
   "id": "c4535d8c",
   "metadata": {},
   "source": [
    "### Datatype Conversation"
   ]
  },
  {
   "cell_type": "code",
   "execution_count": 38,
   "id": "71600165",
   "metadata": {},
   "outputs": [
    {
     "data": {
      "text/plain": [
       "Title        object\n",
       "IMDB id      object\n",
       "Year        float64\n",
       "Rating      float64\n",
       "Genre        object\n",
       "Top_cast     object\n",
       "dtype: object"
      ]
     },
     "execution_count": 38,
     "metadata": {},
     "output_type": "execute_result"
    }
   ],
   "source": [
    "movie_info.dtypes"
   ]
  },
  {
   "cell_type": "code",
   "execution_count": 40,
   "id": "d6826291",
   "metadata": {},
   "outputs": [],
   "source": [
    "movie_info[\"Year\"]=movie_info[\"Year\"].astype('int')"
   ]
  },
  {
   "cell_type": "code",
   "execution_count": 41,
   "id": "5c9ebd1e",
   "metadata": {},
   "outputs": [
    {
     "data": {
      "text/plain": [
       "Title        object\n",
       "IMDB id      object\n",
       "Year          int32\n",
       "Rating      float64\n",
       "Genre        object\n",
       "Top_cast     object\n",
       "dtype: object"
      ]
     },
     "execution_count": 41,
     "metadata": {},
     "output_type": "execute_result"
    }
   ],
   "source": [
    "movie_info.dtypes"
   ]
  },
  {
   "cell_type": "markdown",
   "id": "274cc579",
   "metadata": {},
   "source": [
    "### No need for Data Transformation"
   ]
  },
  {
   "cell_type": "code",
   "execution_count": 42,
   "id": "08424d04",
   "metadata": {},
   "outputs": [
    {
     "data": {
      "text/html": [
       "<div>\n",
       "<style scoped>\n",
       "    .dataframe tbody tr th:only-of-type {\n",
       "        vertical-align: middle;\n",
       "    }\n",
       "\n",
       "    .dataframe tbody tr th {\n",
       "        vertical-align: top;\n",
       "    }\n",
       "\n",
       "    .dataframe thead th {\n",
       "        text-align: right;\n",
       "    }\n",
       "</style>\n",
       "<table border=\"1\" class=\"dataframe\">\n",
       "  <thead>\n",
       "    <tr style=\"text-align: right;\">\n",
       "      <th></th>\n",
       "      <th>Title</th>\n",
       "      <th>IMDB id</th>\n",
       "      <th>Year</th>\n",
       "      <th>Rating</th>\n",
       "      <th>Genre</th>\n",
       "      <th>Top_cast</th>\n",
       "    </tr>\n",
       "  </thead>\n",
       "  <tbody>\n",
       "    <tr>\n",
       "      <th>0</th>\n",
       "      <td>3 Idiots</td>\n",
       "      <td>tt1187043</td>\n",
       "      <td>2009</td>\n",
       "      <td>8.4</td>\n",
       "      <td>Comedy, Drama</td>\n",
       "      <td>Aamir Khan, Madhavan, Sharman Joshi</td>\n",
       "    </tr>\n",
       "    <tr>\n",
       "      <th>1</th>\n",
       "      <td>Like Stars on Earth</td>\n",
       "      <td>tt0986264</td>\n",
       "      <td>2007</td>\n",
       "      <td>8.3</td>\n",
       "      <td>Drama, Family</td>\n",
       "      <td>Darsheel Safary, Aamir Khan, Tanay Chheda</td>\n",
       "    </tr>\n",
       "    <tr>\n",
       "      <th>2</th>\n",
       "      <td>PK</td>\n",
       "      <td>tt2338151</td>\n",
       "      <td>2014</td>\n",
       "      <td>8.1</td>\n",
       "      <td>Comedy, Drama, Sci-Fi</td>\n",
       "      <td>Aamir Khan, Anushka Sharma, Saurabh Shukla</td>\n",
       "    </tr>\n",
       "    <tr>\n",
       "      <th>3</th>\n",
       "      <td>Dangal</td>\n",
       "      <td>tt5074352</td>\n",
       "      <td>2016</td>\n",
       "      <td>8.3</td>\n",
       "      <td>Action, Biography, Drama, Sport</td>\n",
       "      <td>Aamir Khan, Fatima Sana Shaikh, Sanya Malhotra</td>\n",
       "    </tr>\n",
       "    <tr>\n",
       "      <th>4</th>\n",
       "      <td>Rang De Basanti</td>\n",
       "      <td>tt0405508</td>\n",
       "      <td>2006</td>\n",
       "      <td>8.1</td>\n",
       "      <td>Comedy, Crime, Drama</td>\n",
       "      <td>Aamir Khan, Siddharth, Sharman Joshi</td>\n",
       "    </tr>\n",
       "    <tr>\n",
       "      <th>5</th>\n",
       "      <td>Lagaan: Once Upon a Time in India</td>\n",
       "      <td>tt0169102</td>\n",
       "      <td>2001</td>\n",
       "      <td>8.1</td>\n",
       "      <td>Drama, Musical, Sport</td>\n",
       "      <td>Aamir Khan, Gracy Singh, Rachel Shelley</td>\n",
       "    </tr>\n",
       "    <tr>\n",
       "      <th>6</th>\n",
       "      <td>My Name Is Khan</td>\n",
       "      <td>tt1188996</td>\n",
       "      <td>2010</td>\n",
       "      <td>7.9</td>\n",
       "      <td>Adventure, Drama, Romance</td>\n",
       "      <td>Shah Rukh Khan, Kajol, Katie Amanda Keane</td>\n",
       "    </tr>\n",
       "    <tr>\n",
       "      <th>7</th>\n",
       "      <td>Swades</td>\n",
       "      <td>tt0367110</td>\n",
       "      <td>2004</td>\n",
       "      <td>8.2</td>\n",
       "      <td>Drama, Musical</td>\n",
       "      <td>Shah Rukh Khan, Gayatri Joshi, Kishori Ballal</td>\n",
       "    </tr>\n",
       "    <tr>\n",
       "      <th>8</th>\n",
       "      <td>Gangs of Wasseypur</td>\n",
       "      <td>tt1954470</td>\n",
       "      <td>2012</td>\n",
       "      <td>8.2</td>\n",
       "      <td>Action, Comedy, Crime, Drama, Thriller</td>\n",
       "      <td>Manoj Bajpayee, Nawazuddin Siddiqui, Tigmanshu</td>\n",
       "    </tr>\n",
       "    <tr>\n",
       "      <th>9</th>\n",
       "      <td>Gangs of Wasseypur</td>\n",
       "      <td>tt1954470</td>\n",
       "      <td>2012</td>\n",
       "      <td>8.2</td>\n",
       "      <td>Action, Comedy, Crime, Drama, Thriller</td>\n",
       "      <td>Manoj Bajpayee, Nawazuddin Siddiqui, Tigmanshu</td>\n",
       "    </tr>\n",
       "  </tbody>\n",
       "</table>\n",
       "</div>"
      ],
      "text/plain": [
       "                               Title    IMDB id  Year  Rating  \\\n",
       "0                           3 Idiots  tt1187043  2009     8.4   \n",
       "1                Like Stars on Earth  tt0986264  2007     8.3   \n",
       "2                                 PK  tt2338151  2014     8.1   \n",
       "3                             Dangal  tt5074352  2016     8.3   \n",
       "4                    Rang De Basanti  tt0405508  2006     8.1   \n",
       "5  Lagaan: Once Upon a Time in India  tt0169102  2001     8.1   \n",
       "6                    My Name Is Khan  tt1188996  2010     7.9   \n",
       "7                             Swades  tt0367110  2004     8.2   \n",
       "8                 Gangs of Wasseypur  tt1954470  2012     8.2   \n",
       "9                 Gangs of Wasseypur  tt1954470  2012     8.2   \n",
       "\n",
       "                                    Genre  \\\n",
       "0                           Comedy, Drama   \n",
       "1                           Drama, Family   \n",
       "2                   Comedy, Drama, Sci-Fi   \n",
       "3         Action, Biography, Drama, Sport   \n",
       "4                    Comedy, Crime, Drama   \n",
       "5                   Drama, Musical, Sport   \n",
       "6               Adventure, Drama, Romance   \n",
       "7                          Drama, Musical   \n",
       "8  Action, Comedy, Crime, Drama, Thriller   \n",
       "9  Action, Comedy, Crime, Drama, Thriller   \n",
       "\n",
       "                                         Top_cast  \n",
       "0             Aamir Khan, Madhavan, Sharman Joshi  \n",
       "1       Darsheel Safary, Aamir Khan, Tanay Chheda  \n",
       "2      Aamir Khan, Anushka Sharma, Saurabh Shukla  \n",
       "3  Aamir Khan, Fatima Sana Shaikh, Sanya Malhotra  \n",
       "4            Aamir Khan, Siddharth, Sharman Joshi  \n",
       "5         Aamir Khan, Gracy Singh, Rachel Shelley  \n",
       "6      Shah Rukh Khan, Kajol, Katie Amanda Keane   \n",
       "7   Shah Rukh Khan, Gayatri Joshi, Kishori Ballal  \n",
       "8  Manoj Bajpayee, Nawazuddin Siddiqui, Tigmanshu  \n",
       "9  Manoj Bajpayee, Nawazuddin Siddiqui, Tigmanshu  "
      ]
     },
     "execution_count": 42,
     "metadata": {},
     "output_type": "execute_result"
    }
   ],
   "source": [
    "movie_info.head(10)"
   ]
  },
  {
   "cell_type": "markdown",
   "id": "31eb2ee3",
   "metadata": {},
   "source": [
    "# Model Building"
   ]
  },
  {
   "cell_type": "code",
   "execution_count": 43,
   "id": "74c6a8bd",
   "metadata": {},
   "outputs": [],
   "source": [
    "from sklearn.feature_extraction.text import TfidfVectorizer\n",
    "from sklearn.metrics.pairwise  import linear_kernel"
   ]
  },
  {
   "cell_type": "code",
   "execution_count": 44,
   "id": "09e541ee",
   "metadata": {},
   "outputs": [],
   "source": [
    "tfid=TfidfVectorizer()"
   ]
  },
  {
   "cell_type": "code",
   "execution_count": 46,
   "id": "28d8d3b4",
   "metadata": {},
   "outputs": [],
   "source": [
    "vectors = tfid.fit_transform(movie_info['Genre'])"
   ]
  },
  {
   "cell_type": "code",
   "execution_count": 47,
   "id": "0c266678",
   "metadata": {},
   "outputs": [
    {
     "data": {
      "text/plain": [
       "array([[0.        , 0.        , 0.        , 0.        , 0.8297695 ,\n",
       "        0.        , 0.        , 0.        , 0.        , 0.55810624,\n",
       "        0.        , 0.        , 0.        , 0.        , 0.        ,\n",
       "        0.        , 0.        , 0.        , 0.        , 0.        ,\n",
       "        0.        , 0.        , 0.        , 0.        , 0.        ,\n",
       "        0.        , 0.        , 0.        ]])"
      ]
     },
     "execution_count": 47,
     "metadata": {},
     "output_type": "execute_result"
    }
   ],
   "source": [
    "vectors[0].toarray()"
   ]
  },
  {
   "cell_type": "code",
   "execution_count": 48,
   "id": "dae72f5e",
   "metadata": {},
   "outputs": [
    {
     "data": {
      "text/plain": [
       "array([[1.        , 0.16488675, 0.30352976, ..., 0.20158839, 0.74799403,\n",
       "        0.8297695 ]])"
      ]
     },
     "execution_count": 48,
     "metadata": {},
     "output_type": "execute_result"
    }
   ],
   "source": [
    "sim_distance = linear_kernel(vectors[0],vectors)\n",
    "sim_distance"
   ]
  },
  {
   "cell_type": "code",
   "execution_count": 49,
   "id": "0b429a99",
   "metadata": {},
   "outputs": [],
   "source": [
    "sim_score_df=pd.DataFrame(sim_distance).T\n",
    "sim_score_df.columns=['Scores']"
   ]
  },
  {
   "cell_type": "code",
   "execution_count": 50,
   "id": "36dac1ef",
   "metadata": {},
   "outputs": [
    {
     "data": {
      "text/html": [
       "<div>\n",
       "<style scoped>\n",
       "    .dataframe tbody tr th:only-of-type {\n",
       "        vertical-align: middle;\n",
       "    }\n",
       "\n",
       "    .dataframe tbody tr th {\n",
       "        vertical-align: top;\n",
       "    }\n",
       "\n",
       "    .dataframe thead th {\n",
       "        text-align: right;\n",
       "    }\n",
       "</style>\n",
       "<table border=\"1\" class=\"dataframe\">\n",
       "  <thead>\n",
       "    <tr style=\"text-align: right;\">\n",
       "      <th></th>\n",
       "      <th>Scores</th>\n",
       "    </tr>\n",
       "  </thead>\n",
       "  <tbody>\n",
       "    <tr>\n",
       "      <th>0</th>\n",
       "      <td>1.000000</td>\n",
       "    </tr>\n",
       "    <tr>\n",
       "      <th>1</th>\n",
       "      <td>0.164887</td>\n",
       "    </tr>\n",
       "    <tr>\n",
       "      <th>2</th>\n",
       "      <td>0.303530</td>\n",
       "    </tr>\n",
       "    <tr>\n",
       "      <th>3</th>\n",
       "      <td>0.105094</td>\n",
       "    </tr>\n",
       "    <tr>\n",
       "      <th>4</th>\n",
       "      <td>0.666622</td>\n",
       "    </tr>\n",
       "    <tr>\n",
       "      <th>...</th>\n",
       "      <td>...</td>\n",
       "    </tr>\n",
       "    <tr>\n",
       "      <th>1094</th>\n",
       "      <td>0.740096</td>\n",
       "    </tr>\n",
       "    <tr>\n",
       "      <th>1095</th>\n",
       "      <td>1.000000</td>\n",
       "    </tr>\n",
       "    <tr>\n",
       "      <th>1096</th>\n",
       "      <td>0.201588</td>\n",
       "    </tr>\n",
       "    <tr>\n",
       "      <th>1097</th>\n",
       "      <td>0.747994</td>\n",
       "    </tr>\n",
       "    <tr>\n",
       "      <th>1098</th>\n",
       "      <td>0.829770</td>\n",
       "    </tr>\n",
       "  </tbody>\n",
       "</table>\n",
       "<p>1099 rows × 1 columns</p>\n",
       "</div>"
      ],
      "text/plain": [
       "        Scores\n",
       "0     1.000000\n",
       "1     0.164887\n",
       "2     0.303530\n",
       "3     0.105094\n",
       "4     0.666622\n",
       "...        ...\n",
       "1094  0.740096\n",
       "1095  1.000000\n",
       "1096  0.201588\n",
       "1097  0.747994\n",
       "1098  0.829770\n",
       "\n",
       "[1099 rows x 1 columns]"
      ]
     },
     "execution_count": 50,
     "metadata": {},
     "output_type": "execute_result"
    }
   ],
   "source": [
    "sim_score_df"
   ]
  },
  {
   "cell_type": "code",
   "execution_count": 51,
   "id": "ad416ae6",
   "metadata": {},
   "outputs": [],
   "source": [
    "index =pd.Series(data=movie_info.index,\n",
    "    index=movie_info[\"Title\"])"
   ]
  },
  {
   "cell_type": "code",
   "execution_count": 52,
   "id": "685f5d45",
   "metadata": {},
   "outputs": [],
   "source": [
    "def recommend(name,n):\n",
    "    sim_distance=linear_kernel(vectors[index[name]],vectors)\n",
    "    sim_score_df=pd.DataFrame(sim_distance).T\n",
    "    sim_score_df.columns=['Scores']\n",
    "    sim_score_df=sim_score_df.sort_values(\"Scores\", ascending=False)\n",
    "\n",
    "    list=[]\n",
    "\n",
    "    for i in range(0,n+1):\n",
    "        result={'Title': movie_info[\"Title\"][sim_score_df.index[i]],\n",
    "                'Genre': movie_info[\"Genre\"][sim_score_df.index[i]],\n",
    "                'Rating': movie_info[\"Rating\"][sim_score_df.index[i]]\n",
    "\n",
    "\n",
    "        }\n",
    "\n",
    "        list.append(result)\n",
    "\n",
    "    return list"
   ]
  },
  {
   "cell_type": "code",
   "execution_count": 53,
   "id": "5b7cbe7b",
   "metadata": {},
   "outputs": [
    {
     "data": {
      "text/html": [
       "<div>\n",
       "<style scoped>\n",
       "    .dataframe tbody tr th:only-of-type {\n",
       "        vertical-align: middle;\n",
       "    }\n",
       "\n",
       "    .dataframe tbody tr th {\n",
       "        vertical-align: top;\n",
       "    }\n",
       "\n",
       "    .dataframe thead th {\n",
       "        text-align: right;\n",
       "    }\n",
       "</style>\n",
       "<table border=\"1\" class=\"dataframe\">\n",
       "  <thead>\n",
       "    <tr style=\"text-align: right;\">\n",
       "      <th></th>\n",
       "      <th>Title</th>\n",
       "      <th>Genre</th>\n",
       "      <th>Rating</th>\n",
       "    </tr>\n",
       "  </thead>\n",
       "  <tbody>\n",
       "    <tr>\n",
       "      <th>0</th>\n",
       "      <td>Mary Kom</td>\n",
       "      <td>Action, Biography, Drama, Sport</td>\n",
       "      <td>6.8</td>\n",
       "    </tr>\n",
       "    <tr>\n",
       "      <th>1</th>\n",
       "      <td>Dangal</td>\n",
       "      <td>Action, Biography, Drama, Sport</td>\n",
       "      <td>8.3</td>\n",
       "    </tr>\n",
       "    <tr>\n",
       "      <th>2</th>\n",
       "      <td>Azhar</td>\n",
       "      <td>Biography, Drama, Sport</td>\n",
       "      <td>5.7</td>\n",
       "    </tr>\n",
       "    <tr>\n",
       "      <th>3</th>\n",
       "      <td>M.S. Dhoni: The Untold Story</td>\n",
       "      <td>Biography, Drama, Sport</td>\n",
       "      <td>8.0</td>\n",
       "    </tr>\n",
       "    <tr>\n",
       "      <th>4</th>\n",
       "      <td>Bhaag Milkha Bhaag</td>\n",
       "      <td>Biography, Drama, Sport</td>\n",
       "      <td>8.2</td>\n",
       "    </tr>\n",
       "    <tr>\n",
       "      <th>5</th>\n",
       "      <td>Paan Singh Tomar</td>\n",
       "      <td>Action, Biography, Crime, Sport, Thriller</td>\n",
       "      <td>8.2</td>\n",
       "    </tr>\n",
       "  </tbody>\n",
       "</table>\n",
       "</div>"
      ],
      "text/plain": [
       "                          Title                                      Genre  \\\n",
       "0                      Mary Kom            Action, Biography, Drama, Sport   \n",
       "1                        Dangal            Action, Biography, Drama, Sport   \n",
       "2                         Azhar                    Biography, Drama, Sport   \n",
       "3  M.S. Dhoni: The Untold Story                    Biography, Drama, Sport   \n",
       "4            Bhaag Milkha Bhaag                    Biography, Drama, Sport   \n",
       "5              Paan Singh Tomar  Action, Biography, Crime, Sport, Thriller   \n",
       "\n",
       "   Rating  \n",
       "0     6.8  \n",
       "1     8.3  \n",
       "2     5.7  \n",
       "3     8.0  \n",
       "4     8.2  \n",
       "5     8.2  "
      ]
     },
     "execution_count": 53,
     "metadata": {},
     "output_type": "execute_result"
    }
   ],
   "source": [
    "Recommendation_df = pd.DataFrame(recommend('Dangal',5))\n",
    "Recommendation_df"
   ]
  },
  {
   "cell_type": "code",
   "execution_count": null,
   "id": "d5994fac",
   "metadata": {},
   "outputs": [],
   "source": []
  }
 ],
 "metadata": {
  "kernelspec": {
   "display_name": "Python 3 (ipykernel)",
   "language": "python",
   "name": "python3"
  },
  "language_info": {
   "codemirror_mode": {
    "name": "ipython",
    "version": 3
   },
   "file_extension": ".py",
   "mimetype": "text/x-python",
   "name": "python",
   "nbconvert_exporter": "python",
   "pygments_lexer": "ipython3",
   "version": "3.11.5"
  }
 },
 "nbformat": 4,
 "nbformat_minor": 5
}
